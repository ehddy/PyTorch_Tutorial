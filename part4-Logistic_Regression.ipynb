{
 "cells": [
  {
   "cell_type": "markdown",
   "id": "f08f5c24",
   "metadata": {},
   "source": [
    "## 파이토치로 로지스틱 회귀 구현하기"
   ]
  },
  {
   "attachments": {
    "6e03f9ae-f7b5-436b-905d-5ed222e0fb95.png": {
     "image/png": "[encoded data removed]"
    }
   },
   "cell_type": "markdown",
   "id": "40a78150",
   "metadata": {},
   "source": [
    "![image.png](attachment:6e03f9ae-f7b5-436b-905d-5ed222e0fb95.png)"
   ]
  },
  {
   "cell_type": "code",
   "execution_count": 1,
   "id": "a7bcee44",
   "metadata": {},
   "outputs": [],
   "source": [
    "import torch \n",
    "import torch.nn as nn\n",
    "import torch.nn.functional as F\n",
    "import torch.optim as optim"
   ]
  },
  {
   "cell_type": "code",
   "execution_count": 2,
   "id": "d831a4b6",
   "metadata": {},
   "outputs": [
    {
     "data": {
      "text/plain": [
       "<torch._C.Generator at 0x7f30cec7c390>"
      ]
     },
     "execution_count": 2,
     "metadata": {},
     "output_type": "execute_result"
    }
   ],
   "source": [
    "torch.manual_seed(1)"
   ]
  },
  {
   "cell_type": "code",
   "execution_count": 3,
   "id": "79b97040",
   "metadata": {},
   "outputs": [],
   "source": [
    "x_data = [[1, 2], [2, 3], [3, 1], [4, 3], [5, 3], [6, 2]]\n",
    "y_data = [[0], [0], [0], [1], [1], [1]]\n",
    "x_train = torch.FloatTensor(x_data)\n",
    "y_train = torch.FloatTensor(y_data)"
   ]
  },
  {
   "cell_type": "code",
   "execution_count": 5,
   "id": "5b7a5ed1",
   "metadata": {},
   "outputs": [
    {
     "name": "stdout",
     "output_type": "stream",
     "text": [
      "torch.Size([6, 2])\n",
      "torch.Size([6, 1])\n"
     ]
    }
   ],
   "source": [
    "print(x_train.shape)\n",
    "print(y_train.shape)"
   ]
  },
  {
   "cell_type": "code",
   "execution_count": 6,
   "id": "bc726d78",
   "metadata": {},
   "outputs": [],
   "source": [
    "W = torch.zeros((2, 1), requires_grad=True) # 크기는 2 x 1\n",
    "b = torch.zeros(1, requires_grad=True)"
   ]
  },
  {
   "cell_type": "code",
   "execution_count": 7,
   "id": "ecb89200",
   "metadata": {},
   "outputs": [],
   "source": [
    "hypothesis = 1 / (1 + torch.exp(-(x_train.matmul(W) + b)))"
   ]
  },
  {
   "cell_type": "code",
   "execution_count": 8,
   "id": "8e69e155",
   "metadata": {},
   "outputs": [
    {
     "data": {
      "text/plain": [
       "tensor([[0.5000],\n",
       "        [0.5000],\n",
       "        [0.5000],\n",
       "        [0.5000],\n",
       "        [0.5000],\n",
       "        [0.5000]], grad_fn=<MulBackward0>)"
      ]
     },
     "execution_count": 8,
     "metadata": {},
     "output_type": "execute_result"
    }
   ],
   "source": [
    "hypothesis"
   ]
  },
  {
   "cell_type": "code",
   "execution_count": 9,
   "id": "bfa406e4",
   "metadata": {},
   "outputs": [],
   "source": [
    "hypothesis = torch.sigmoid(x_train.matmul(W)+ b)"
   ]
  },
  {
   "cell_type": "code",
   "execution_count": 10,
   "id": "450f12df",
   "metadata": {},
   "outputs": [
    {
     "data": {
      "text/plain": [
       "tensor([[0.5000],\n",
       "        [0.5000],\n",
       "        [0.5000],\n",
       "        [0.5000],\n",
       "        [0.5000],\n",
       "        [0.5000]], grad_fn=<SigmoidBackward0>)"
      ]
     },
     "execution_count": 10,
     "metadata": {},
     "output_type": "execute_result"
    }
   ],
   "source": [
    "hypothesis"
   ]
  },
  {
   "attachments": {
    "776f63a3-f313-4273-81b4-ed04dc50ae02.png": {
     "image/png": "[encoded data removed]"
    }
   },
   "cell_type": "markdown",
   "id": "4b4690f3",
   "metadata": {},
   "source": [
    "![image.png](attachment:776f63a3-f313-4273-81b4-ed04dc50ae02.png)"
   ]
  },
  {
   "cell_type": "code",
   "execution_count": 11,
   "id": "9eeb1ccb",
   "metadata": {},
   "outputs": [
    {
     "data": {
      "text/plain": [
       "tensor([0.6931], grad_fn=<NegBackward0>)"
      ]
     },
     "execution_count": 11,
     "metadata": {},
     "output_type": "execute_result"
    }
   ],
   "source": [
    "# 일단 하나만 구해보자.\n",
    "-(y_train[0] * torch.log(hypothesis[0]) + \n",
    " (1 - y_train[0]) * torch.log(1 - hypothesis[0]))"
   ]
  },
  {
   "cell_type": "code",
   "execution_count": 12,
   "id": "846dd183",
   "metadata": {},
   "outputs": [
    {
     "name": "stdout",
     "output_type": "stream",
     "text": [
      "tensor([[0.6931],\n",
      "        [0.6931],\n",
      "        [0.6931],\n",
      "        [0.6931],\n",
      "        [0.6931],\n",
      "        [0.6931]], grad_fn=<NegBackward0>)\n"
     ]
    }
   ],
   "source": [
    "# 모든 원소\n",
    "loss = -(y_train * torch.log(hypothesis) + (1 - y_train) * torch.log(1 - hypothesis))\n",
    "print(loss)"
   ]
  },
  {
   "cell_type": "code",
   "execution_count": 13,
   "id": "56e453f3",
   "metadata": {},
   "outputs": [],
   "source": [
    "# 오차의 평균\n",
    "cost = loss.mean()"
   ]
  },
  {
   "cell_type": "code",
   "execution_count": 14,
   "id": "8f4fcc9d",
   "metadata": {},
   "outputs": [
    {
     "data": {
      "text/plain": [
       "tensor(0.6931, grad_fn=<MeanBackward0>)"
      ]
     },
     "execution_count": 14,
     "metadata": {},
     "output_type": "execute_result"
    }
   ],
   "source": [
    "cost"
   ]
  },
  {
   "cell_type": "code",
   "execution_count": 15,
   "id": "646ec1bd",
   "metadata": {},
   "outputs": [
    {
     "data": {
      "text/plain": [
       "tensor(0.6931, grad_fn=<BinaryCrossEntropyBackward0>)"
      ]
     },
     "execution_count": 15,
     "metadata": {},
     "output_type": "execute_result"
    }
   ],
   "source": [
    "# 아래와 같이 binanry_cross_entropy(예측값, 실제값) 사용\n",
    "F.binary_cross_entropy(hypothesis, y_train)"
   ]
  },
  {
   "cell_type": "code",
   "execution_count": 16,
   "id": "b677cad4",
   "metadata": {},
   "outputs": [],
   "source": [
    "# 전체 코드 \n",
    "x_data = [[1, 2], [2, 3], [3, 1], [4, 3], [5, 3], [6, 2]]\n",
    "y_data = [[0], [0], [0], [1], [1], [1]]\n",
    "x_train = torch.FloatTensor(x_data)\n",
    "y_train = torch.FloatTensor(y_data)"
   ]
  },
  {
   "cell_type": "code",
   "execution_count": 17,
   "id": "afbd8beb",
   "metadata": {},
   "outputs": [],
   "source": [
    "# 모델 초기화\n",
    "W = torch.zeros((2, 1), requires_grad=True)\n",
    "b = torch.zeros(1, requires_grad=True)\n",
    "# optimizer 설정\n",
    "optimizer = optim.SGD([W, b], lr=1)"
   ]
  },
  {
   "cell_type": "code",
   "execution_count": 18,
   "id": "b2ca95e4",
   "metadata": {},
   "outputs": [
    {
     "name": "stdout",
     "output_type": "stream",
     "text": [
      "Epoch    0 / 1000 Cost : 0.693147\n",
      "Epoch  100 / 1000 Cost : 0.134722\n",
      "Epoch  200 / 1000 Cost : 0.080643\n",
      "Epoch  300 / 1000 Cost : 0.057900\n",
      "Epoch  400 / 1000 Cost : 0.045300\n",
      "Epoch  500 / 1000 Cost : 0.037261\n",
      "Epoch  600 / 1000 Cost : 0.031672\n",
      "Epoch  700 / 1000 Cost : 0.027556\n",
      "Epoch  800 / 1000 Cost : 0.024394\n",
      "Epoch  900 / 1000 Cost : 0.021888\n",
      "Epoch 1000 / 1000 Cost : 0.019852\n"
     ]
    }
   ],
   "source": [
    "nb_epochs = 1000\n",
    "\n",
    "for epoch in range(nb_epochs + 1):\n",
    "    \n",
    "    # Cost 계산 \n",
    "    hypothesis = torch.sigmoid(x_train.matmul(W) + b)\n",
    "    \n",
    "    cost = F.binary_cross_entropy(hypothesis, y_train)\n",
    "    \n",
    "    # cost로 H(x) 개선\n",
    "    optimizer.zero_grad()\n",
    "    cost.backward()\n",
    "    \n",
    "    optimizer.step()\n",
    "    \n",
    "    # 100번 마다 로그 출력 \n",
    "    if epoch % 100 == 0:\n",
    "        print('Epoch {:4d} / {} Cost : {:6f}'.format(\n",
    "        epoch, nb_epochs, cost.item()))\n",
    "    \n",
    "    "
   ]
  },
  {
   "cell_type": "code",
   "execution_count": 20,
   "id": "5361cbe8",
   "metadata": {},
   "outputs": [
    {
     "name": "stdout",
     "output_type": "stream",
     "text": [
      "tensor([[2.7648e-04],\n",
      "        [3.1608e-02],\n",
      "        [3.8977e-02],\n",
      "        [9.5622e-01],\n",
      "        [9.9823e-01],\n",
      "        [9.9969e-01]], grad_fn=<SigmoidBackward0>)\n"
     ]
    }
   ],
   "source": [
    "# 훈련 데이터를 그대로 입력으로 사용하여 예측값 도출\n",
    "hypothesis = torch.sigmoid(x_train.matmul(W) + b)\n",
    "print(hypothesis)"
   ]
  },
  {
   "cell_type": "code",
   "execution_count": 21,
   "id": "5123862e",
   "metadata": {},
   "outputs": [],
   "source": [
    "prediction = hypothesis >= torch.FloatTensor([0.5])"
   ]
  },
  {
   "cell_type": "code",
   "execution_count": 22,
   "id": "26012457",
   "metadata": {},
   "outputs": [
    {
     "data": {
      "text/plain": [
       "tensor([[False],\n",
       "        [False],\n",
       "        [False],\n",
       "        [ True],\n",
       "        [ True],\n",
       "        [ True]])"
      ]
     },
     "execution_count": 22,
     "metadata": {},
     "output_type": "execute_result"
    }
   ],
   "source": [
    "prediction"
   ]
  },
  {
   "cell_type": "code",
   "execution_count": 23,
   "id": "9d2a9f22",
   "metadata": {},
   "outputs": [
    {
     "name": "stdout",
     "output_type": "stream",
     "text": [
      "tensor([[3.2530],\n",
      "        [1.5179]], requires_grad=True)\n",
      "tensor([-14.4819], requires_grad=True)\n"
     ]
    }
   ],
   "source": [
    "print(W)\n",
    "print(b)"
   ]
  },
  {
   "cell_type": "markdown",
   "id": "7e48649b",
   "metadata": {},
   "source": [
    "## nn.Module로 구현하는 로지스틱 회귀"
   ]
  },
  {
   "cell_type": "code",
   "execution_count": 24,
   "id": "45a7d395",
   "metadata": {},
   "outputs": [],
   "source": [
    "import torch\n",
    "import torch.nn as nn\n",
    "import torch.nn.functional as F\n",
    "import torch.optim as optim"
   ]
  },
  {
   "cell_type": "code",
   "execution_count": 25,
   "id": "ee67ad35",
   "metadata": {},
   "outputs": [
    {
     "data": {
      "text/plain": [
       "<torch._C.Generator at 0x7f30cec7c390>"
      ]
     },
     "execution_count": 25,
     "metadata": {},
     "output_type": "execute_result"
    }
   ],
   "source": [
    "torch.manual_seed(1)"
   ]
  },
  {
   "cell_type": "code",
   "execution_count": 26,
   "id": "c3b91475",
   "metadata": {},
   "outputs": [],
   "source": [
    "x_data = [[1, 2], [2, 3], [3, 1], [4, 3], [5, 3], [6, 2]]\n",
    "y_data = [[0], [0], [0], [1], [1], [1]]\n",
    "x_train = torch.FloatTensor(x_data)\n",
    "y_train = torch.FloatTensor(y_data)"
   ]
  },
  {
   "cell_type": "markdown",
   "id": "82037a12",
   "metadata": {},
   "source": [
    "- nn.Sequential()은 nn.Module 층을 차례로 쌓을 수 있도록 함( 여러 함수를 연결해주는 역할)"
   ]
  },
  {
   "cell_type": "code",
   "execution_count": 30,
   "id": "fab29907",
   "metadata": {},
   "outputs": [],
   "source": [
    "model = nn.Sequential(\n",
    "    nn.Linear(2, 1),\n",
    "    nn.Sigmoid()\n",
    ")"
   ]
  },
  {
   "cell_type": "code",
   "execution_count": 31,
   "id": "b6c0be9f",
   "metadata": {},
   "outputs": [
    {
     "data": {
      "text/plain": [
       "tensor([[0.4020],\n",
       "        [0.4147],\n",
       "        [0.6556],\n",
       "        [0.5948],\n",
       "        [0.6788],\n",
       "        [0.8061]], grad_fn=<SigmoidBackward0>)"
      ]
     },
     "execution_count": 31,
     "metadata": {},
     "output_type": "execute_result"
    }
   ],
   "source": [
    "model(x_train)"
   ]
  },
  {
   "cell_type": "code",
   "execution_count": 32,
   "id": "29e471e1",
   "metadata": {},
   "outputs": [],
   "source": [
    "# optimizer 설정\n",
    "optimizer = optim.SGD(model.parameters(), lr=1)"
   ]
  },
  {
   "cell_type": "code",
   "execution_count": 38,
   "id": "927b4689",
   "metadata": {},
   "outputs": [
    {
     "name": "stdout",
     "output_type": "stream",
     "text": [
      "Epoch    0/1000 Cost: 0.019825 Accuracy 100.00%\n",
      "Epoch   50/1000 Cost: 0.018946 Accuracy 100.00%\n",
      "Epoch  100/1000 Cost: 0.018142 Accuracy 100.00%\n",
      "Epoch  150/1000 Cost: 0.017403 Accuracy 100.00%\n",
      "Epoch  200/1000 Cost: 0.016723 Accuracy 100.00%\n",
      "Epoch  250/1000 Cost: 0.016094 Accuracy 100.00%\n",
      "Epoch  300/1000 Cost: 0.015511 Accuracy 100.00%\n",
      "Epoch  350/1000 Cost: 0.014969 Accuracy 100.00%\n",
      "Epoch  400/1000 Cost: 0.014464 Accuracy 100.00%\n",
      "Epoch  450/1000 Cost: 0.013992 Accuracy 100.00%\n",
      "Epoch  500/1000 Cost: 0.013549 Accuracy 100.00%\n",
      "Epoch  550/1000 Cost: 0.013134 Accuracy 100.00%\n",
      "Epoch  600/1000 Cost: 0.012744 Accuracy 100.00%\n",
      "Epoch  650/1000 Cost: 0.012376 Accuracy 100.00%\n",
      "Epoch  700/1000 Cost: 0.012029 Accuracy 100.00%\n",
      "Epoch  750/1000 Cost: 0.011701 Accuracy 100.00%\n",
      "Epoch  800/1000 Cost: 0.011391 Accuracy 100.00%\n",
      "Epoch  850/1000 Cost: 0.011096 Accuracy 100.00%\n",
      "Epoch  900/1000 Cost: 0.010817 Accuracy 100.00%\n",
      "Epoch  950/1000 Cost: 0.010551 Accuracy 100.00%\n",
      "Epoch 1000/1000 Cost: 0.010298 Accuracy 100.00%\n"
     ]
    }
   ],
   "source": [
    "nb_epochs = 1000\n",
    "for epoch in range(nb_epochs + 1):\n",
    "    \n",
    "    # H(X) 계산\n",
    "    hypothesis = model(x_train)\n",
    "    \n",
    "    # cost 계산\n",
    "    cost = F.binary_cross_entropy(hypothesis, y_train)\n",
    "    \n",
    "    optimizer.zero_grad()\n",
    "    cost.backward()\n",
    "    optimizer.step()\n",
    "    \n",
    "    \n",
    "    # 20번마다 로그 출력\n",
    "    if epoch % 50 == 0:\n",
    "        prediction = hypothesis >= torch.FloatTensor([0.5])\n",
    "        correct_prediction = prediction.float() == y_train # 실제값과 일치하는 경우만 True로 간주\n",
    "        accuracy = correct_prediction.sum().item() / len(correct_prediction) # 정확도를 계산\n",
    "        print('Epoch {:4d}/{} Cost: {:.6f} Accuracy {:2.2f}%'.format( # 각 에포크마다 정확도를 출력\n",
    "            epoch, nb_epochs, cost.item(), accuracy * 100,\n",
    "        ))"
   ]
  },
  {
   "cell_type": "code",
   "execution_count": 39,
   "id": "6a8c4e4b",
   "metadata": {},
   "outputs": [
    {
     "data": {
      "text/plain": [
       "tensor([[5.4327e-05],\n",
       "        [1.6832e-02],\n",
       "        [2.0145e-02],\n",
       "        [9.7646e-01],\n",
       "        [9.9951e-01],\n",
       "        [9.9994e-01]], grad_fn=<SigmoidBackward0>)"
      ]
     },
     "execution_count": 39,
     "metadata": {},
     "output_type": "execute_result"
    }
   ],
   "source": [
    "model(x_train)"
   ]
  },
  {
   "cell_type": "code",
   "execution_count": 40,
   "id": "5d333e5f",
   "metadata": {},
   "outputs": [
    {
     "name": "stdout",
     "output_type": "stream",
     "text": [
      "[Parameter containing:\n",
      "tensor([[3.8963, 1.8566]], requires_grad=True), Parameter containing:\n",
      "tensor([-17.4300], requires_grad=True)]\n"
     ]
    }
   ],
   "source": [
    "print(list(model.parameters()))"
   ]
  },
  {
   "cell_type": "markdown",
   "id": "91d4cbba",
   "metadata": {},
   "source": [
    "## 클래스로 파이토치 모델 구현하기 "
   ]
  },
  {
   "cell_type": "code",
   "execution_count": 86,
   "id": "1fefa10a",
   "metadata": {},
   "outputs": [],
   "source": [
    "import torch\n",
    "import torch.nn as nn\n",
    "import torch.nn.functional as F\n",
    "import torch.optim as optim"
   ]
  },
  {
   "cell_type": "code",
   "execution_count": 87,
   "id": "2b67459e",
   "metadata": {},
   "outputs": [
    {
     "data": {
      "text/plain": [
       "<torch._C.Generator at 0x7f30cec7c390>"
      ]
     },
     "execution_count": 87,
     "metadata": {},
     "output_type": "execute_result"
    }
   ],
   "source": [
    "torch.manual_seed(1)"
   ]
  },
  {
   "cell_type": "code",
   "execution_count": 88,
   "id": "4e19fab8",
   "metadata": {},
   "outputs": [],
   "source": [
    "x_data = [[1, 2], [2, 3], [3, 1], [4, 3], [5, 3], [6, 2]]\n",
    "y_data = [[0], [0], [0], [1], [1], [1]]\n",
    "x_train = torch.FloatTensor(x_data)\n",
    "y_train = torch.FloatTensor(y_data)"
   ]
  },
  {
   "cell_type": "code",
   "execution_count": 89,
   "id": "a820c927",
   "metadata": {},
   "outputs": [],
   "source": [
    "class BinaryClassifier(nn.Module):\n",
    "    def __init__(self):\n",
    "        super().__init__()\n",
    "        self.linear = nn.Linear(2, 1)\n",
    "        self.sigmoid = nn.Sigmoid()\n",
    "        \n",
    "    def forward(self, x):\n",
    "        return self.sigmoid(self.linear(x))"
   ]
  },
  {
   "cell_type": "code",
   "execution_count": 90,
   "id": "5ac25069",
   "metadata": {},
   "outputs": [],
   "source": [
    "model = BinaryClassifier()"
   ]
  },
  {
   "cell_type": "code",
   "execution_count": 91,
   "id": "3e98d613",
   "metadata": {},
   "outputs": [
    {
     "name": "stdout",
     "output_type": "stream",
     "text": [
      "Epoch    0/1000 Cost: 0.539713 Accuracy 83.33%\n",
      "Epoch   20/1000 Cost: 0.441875 Accuracy 66.67%\n",
      "Epoch   40/1000 Cost: 0.316358 Accuracy 83.33%\n",
      "Epoch   60/1000 Cost: 0.220498 Accuracy 100.00%\n",
      "Epoch   80/1000 Cost: 0.157299 Accuracy 100.00%\n",
      "Epoch  100/1000 Cost: 0.134272 Accuracy 100.00%\n",
      "Epoch  120/1000 Cost: 0.118297 Accuracy 100.00%\n",
      "Epoch  140/1000 Cost: 0.105779 Accuracy 100.00%\n",
      "Epoch  160/1000 Cost: 0.095704 Accuracy 100.00%\n",
      "Epoch  180/1000 Cost: 0.087420 Accuracy 100.00%\n",
      "Epoch  200/1000 Cost: 0.080486 Accuracy 100.00%\n",
      "Epoch  220/1000 Cost: 0.074595 Accuracy 100.00%\n",
      "Epoch  240/1000 Cost: 0.069526 Accuracy 100.00%\n",
      "Epoch  260/1000 Cost: 0.065118 Accuracy 100.00%\n",
      "Epoch  280/1000 Cost: 0.061247 Accuracy 100.00%\n",
      "Epoch  300/1000 Cost: 0.057820 Accuracy 100.00%\n",
      "Epoch  320/1000 Cost: 0.054764 Accuracy 100.00%\n",
      "Epoch  340/1000 Cost: 0.052022 Accuracy 100.00%\n",
      "Epoch  360/1000 Cost: 0.049546 Accuracy 100.00%\n",
      "Epoch  380/1000 Cost: 0.047299 Accuracy 100.00%\n",
      "Epoch  400/1000 Cost: 0.045251 Accuracy 100.00%\n",
      "Epoch  420/1000 Cost: 0.043376 Accuracy 100.00%\n",
      "Epoch  440/1000 Cost: 0.041653 Accuracy 100.00%\n",
      "Epoch  460/1000 Cost: 0.040064 Accuracy 100.00%\n",
      "Epoch  480/1000 Cost: 0.038593 Accuracy 100.00%\n",
      "Epoch  500/1000 Cost: 0.037228 Accuracy 100.00%\n",
      "Epoch  520/1000 Cost: 0.035958 Accuracy 100.00%\n",
      "Epoch  540/1000 Cost: 0.034773 Accuracy 100.00%\n",
      "Epoch  560/1000 Cost: 0.033664 Accuracy 100.00%\n",
      "Epoch  580/1000 Cost: 0.032625 Accuracy 100.00%\n",
      "Epoch  600/1000 Cost: 0.031649 Accuracy 100.00%\n",
      "Epoch  620/1000 Cost: 0.030730 Accuracy 100.00%\n",
      "Epoch  640/1000 Cost: 0.029864 Accuracy 100.00%\n",
      "Epoch  660/1000 Cost: 0.029046 Accuracy 100.00%\n",
      "Epoch  680/1000 Cost: 0.028272 Accuracy 100.00%\n",
      "Epoch  700/1000 Cost: 0.027538 Accuracy 100.00%\n",
      "Epoch  720/1000 Cost: 0.026842 Accuracy 100.00%\n",
      "Epoch  740/1000 Cost: 0.026181 Accuracy 100.00%\n",
      "Epoch  760/1000 Cost: 0.025552 Accuracy 100.00%\n",
      "Epoch  780/1000 Cost: 0.024952 Accuracy 100.00%\n",
      "Epoch  800/1000 Cost: 0.024381 Accuracy 100.00%\n",
      "Epoch  820/1000 Cost: 0.023835 Accuracy 100.00%\n",
      "Epoch  840/1000 Cost: 0.023313 Accuracy 100.00%\n",
      "Epoch  860/1000 Cost: 0.022814 Accuracy 100.00%\n",
      "Epoch  880/1000 Cost: 0.022336 Accuracy 100.00%\n",
      "Epoch  900/1000 Cost: 0.021877 Accuracy 100.00%\n",
      "Epoch  920/1000 Cost: 0.021437 Accuracy 100.00%\n",
      "Epoch  940/1000 Cost: 0.021015 Accuracy 100.00%\n",
      "Epoch  960/1000 Cost: 0.020609 Accuracy 100.00%\n",
      "Epoch  980/1000 Cost: 0.020219 Accuracy 100.00%\n",
      "Epoch 1000/1000 Cost: 0.019843 Accuracy 100.00%\n"
     ]
    }
   ],
   "source": [
    "# optimizer 설정\n",
    "optimizer = optim.SGD(model.parameters(), lr=1)\n",
    "\n",
    "nb_epochs = 1000\n",
    "for epoch in range(nb_epochs + 1):\n",
    "\n",
    "    # H(x) 계산\n",
    "    hypothesis = model(x_train)\n",
    "\n",
    "    # cost 계산\n",
    "    cost = F.binary_cross_entropy(hypothesis, y_train)\n",
    "\n",
    "    # cost로 H(x) 개선\n",
    "    optimizer.zero_grad()\n",
    "    cost.backward()\n",
    "    optimizer.step()\n",
    "\n",
    "    # 20번마다 로그 출력\n",
    "    if epoch % 20 == 0:\n",
    "        prediction = hypothesis >= torch.FloatTensor([0.5]) # 예측값이 0.5를 넘으면 True로 간주\n",
    "        correct_prediction = prediction.float() == y_train # 실제값과 일치하는 경우만 True로 간주\n",
    "        accuracy = correct_prediction.sum().item() / len(correct_prediction) # 정확도를 계산\n",
    "        print('Epoch {:4d}/{} Cost: {:.6f} Accuracy {:2.2f}%'.format( # 각 에포크마다 정확도를 출력\n",
    "            epoch, nb_epochs, cost.item(), accuracy * 100,\n",
    "        ))"
   ]
  },
  {
   "cell_type": "code",
   "execution_count": 92,
   "id": "279f81c2",
   "metadata": {},
   "outputs": [],
   "source": [
    "class SoftmaxClassifierModel(nn.Module):\n",
    "    def __init__(self):\n",
    "        super().__init__()\n",
    "        self.linear = nn.Linear(2, 2)\n",
    "        \n",
    "    def forward(self, x):\n",
    "        return self.linear(x)"
   ]
  },
  {
   "cell_type": "code",
   "execution_count": 93,
   "id": "20a8efa9",
   "metadata": {},
   "outputs": [],
   "source": [
    "model = SoftmaxClassifierModel()"
   ]
  },
  {
   "cell_type": "code",
   "execution_count": 94,
   "id": "6d213753",
   "metadata": {},
   "outputs": [],
   "source": [
    "y_train = y_train.squeeze().long()"
   ]
  },
  {
   "cell_type": "code",
   "execution_count": 96,
   "id": "28e7e364",
   "metadata": {},
   "outputs": [
    {
     "name": "stdout",
     "output_type": "stream",
     "text": [
      "Epoch    0/1000 Cost: 0.083419\n",
      "Epoch   10/1000 Cost: 0.082740\n",
      "Epoch   20/1000 Cost: 0.082073\n",
      "Epoch   30/1000 Cost: 0.081416\n",
      "Epoch   40/1000 Cost: 0.080771\n",
      "Epoch   50/1000 Cost: 0.080135\n",
      "Epoch   60/1000 Cost: 0.079510\n",
      "Epoch   70/1000 Cost: 0.078895\n",
      "Epoch   80/1000 Cost: 0.078289\n",
      "Epoch   90/1000 Cost: 0.077693\n",
      "Epoch  100/1000 Cost: 0.077106\n",
      "Epoch  110/1000 Cost: 0.076528\n",
      "Epoch  120/1000 Cost: 0.075959\n",
      "Epoch  130/1000 Cost: 0.075399\n",
      "Epoch  140/1000 Cost: 0.074847\n",
      "Epoch  150/1000 Cost: 0.074303\n",
      "Epoch  160/1000 Cost: 0.073768\n",
      "Epoch  170/1000 Cost: 0.073240\n",
      "Epoch  180/1000 Cost: 0.072720\n",
      "Epoch  190/1000 Cost: 0.072207\n",
      "Epoch  200/1000 Cost: 0.071702\n",
      "Epoch  210/1000 Cost: 0.071204\n",
      "Epoch  220/1000 Cost: 0.070713\n",
      "Epoch  230/1000 Cost: 0.070229\n",
      "Epoch  240/1000 Cost: 0.069751\n",
      "Epoch  250/1000 Cost: 0.069281\n",
      "Epoch  260/1000 Cost: 0.068816\n",
      "Epoch  270/1000 Cost: 0.068359\n",
      "Epoch  280/1000 Cost: 0.067907\n",
      "Epoch  290/1000 Cost: 0.067461\n",
      "Epoch  300/1000 Cost: 0.067022\n",
      "Epoch  310/1000 Cost: 0.066588\n",
      "Epoch  320/1000 Cost: 0.066160\n",
      "Epoch  330/1000 Cost: 0.065737\n",
      "Epoch  340/1000 Cost: 0.065320\n",
      "Epoch  350/1000 Cost: 0.064908\n",
      "Epoch  360/1000 Cost: 0.064502\n",
      "Epoch  370/1000 Cost: 0.064101\n",
      "Epoch  380/1000 Cost: 0.063705\n",
      "Epoch  390/1000 Cost: 0.063314\n",
      "Epoch  400/1000 Cost: 0.062928\n",
      "Epoch  410/1000 Cost: 0.062546\n",
      "Epoch  420/1000 Cost: 0.062170\n",
      "Epoch  430/1000 Cost: 0.061798\n",
      "Epoch  440/1000 Cost: 0.061430\n",
      "Epoch  450/1000 Cost: 0.061067\n",
      "Epoch  460/1000 Cost: 0.060708\n",
      "Epoch  470/1000 Cost: 0.060354\n",
      "Epoch  480/1000 Cost: 0.060004\n",
      "Epoch  490/1000 Cost: 0.059657\n",
      "Epoch  500/1000 Cost: 0.059315\n",
      "Epoch  510/1000 Cost: 0.058977\n",
      "Epoch  520/1000 Cost: 0.058643\n",
      "Epoch  530/1000 Cost: 0.058313\n",
      "Epoch  540/1000 Cost: 0.057987\n",
      "Epoch  550/1000 Cost: 0.057664\n",
      "Epoch  560/1000 Cost: 0.057345\n",
      "Epoch  570/1000 Cost: 0.057029\n",
      "Epoch  580/1000 Cost: 0.056717\n",
      "Epoch  590/1000 Cost: 0.056409\n",
      "Epoch  600/1000 Cost: 0.056104\n",
      "Epoch  610/1000 Cost: 0.055802\n",
      "Epoch  620/1000 Cost: 0.055504\n",
      "Epoch  630/1000 Cost: 0.055208\n",
      "Epoch  640/1000 Cost: 0.054916\n",
      "Epoch  650/1000 Cost: 0.054628\n",
      "Epoch  660/1000 Cost: 0.054342\n",
      "Epoch  670/1000 Cost: 0.054059\n",
      "Epoch  680/1000 Cost: 0.053779\n",
      "Epoch  690/1000 Cost: 0.053503\n",
      "Epoch  700/1000 Cost: 0.053229\n",
      "Epoch  710/1000 Cost: 0.052958\n",
      "Epoch  720/1000 Cost: 0.052690\n",
      "Epoch  730/1000 Cost: 0.052424\n",
      "Epoch  740/1000 Cost: 0.052161\n",
      "Epoch  750/1000 Cost: 0.051901\n",
      "Epoch  760/1000 Cost: 0.051644\n",
      "Epoch  770/1000 Cost: 0.051389\n",
      "Epoch  780/1000 Cost: 0.051137\n",
      "Epoch  790/1000 Cost: 0.050887\n",
      "Epoch  800/1000 Cost: 0.050640\n",
      "Epoch  810/1000 Cost: 0.050395\n",
      "Epoch  820/1000 Cost: 0.050152\n",
      "Epoch  830/1000 Cost: 0.049912\n",
      "Epoch  840/1000 Cost: 0.049675\n",
      "Epoch  850/1000 Cost: 0.049439\n",
      "Epoch  860/1000 Cost: 0.049206\n",
      "Epoch  870/1000 Cost: 0.048975\n",
      "Epoch  880/1000 Cost: 0.048746\n",
      "Epoch  890/1000 Cost: 0.048520\n",
      "Epoch  900/1000 Cost: 0.048295\n",
      "Epoch  910/1000 Cost: 0.048073\n",
      "Epoch  920/1000 Cost: 0.047853\n",
      "Epoch  930/1000 Cost: 0.047635\n",
      "Epoch  940/1000 Cost: 0.047418\n",
      "Epoch  950/1000 Cost: 0.047204\n",
      "Epoch  960/1000 Cost: 0.046992\n",
      "Epoch  970/1000 Cost: 0.046782\n",
      "Epoch  980/1000 Cost: 0.046573\n",
      "Epoch  990/1000 Cost: 0.046367\n",
      "Epoch 1000/1000 Cost: 0.046162\n"
     ]
    }
   ],
   "source": [
    "# optimizer 설정\n",
    "optimizer = optim.SGD(model.parameters(), lr=0.1)\n",
    "\n",
    "nb_epochs = 1000\n",
    "for epoch in range(nb_epochs + 1):\n",
    "\n",
    "    # H(x) 계산\n",
    "    prediction = model(x_train)\n",
    "\n",
    "    # cost 계산\n",
    "    cost = F.cross_entropy(prediction, y_train)\n",
    "\n",
    "    # cost로 H(x) 개선\n",
    "    optimizer.zero_grad()\n",
    "    cost.backward()\n",
    "    optimizer.step()\n",
    "\n",
    "    # 20번마다 로그 출력\n",
    "    if epoch % 10 == 0:\n",
    "        print('Epoch {:4d}/{} Cost: {:.6f}'.format(\n",
    "            epoch, nb_epochs, cost.item()\n",
    "        ))"
   ]
  },
  {
   "cell_type": "code",
   "execution_count": null,
   "id": "8d79041c",
   "metadata": {},
   "outputs": [],
   "source": []
  }
 ],
 "metadata": {
  "kernelspec": {
   "display_name": "Python 3 (ipykernel)",
   "language": "python",
   "name": "python3"
  },
  "language_info": {
   "codemirror_mode": {
    "name": "ipython",
    "version": 3
   },
   "file_extension": ".py",
   "mimetype": "text/x-python",
   "name": "python",
   "nbconvert_exporter": "python",
   "pygments_lexer": "ipython3",
   "version": "3.9.2"
  }
 },
 "nbformat": 4,
 "nbformat_minor": 5
}
