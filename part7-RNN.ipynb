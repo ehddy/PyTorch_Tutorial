{
 "cells": [
  {
   "cell_type": "markdown",
   "id": "76bdc9df",
   "metadata": {},
   "source": [
    "## 파이썬으로 RNN 구현하기"
   ]
  },
  {
   "attachments": {
    "10d59931-27aa-4531-92a5-511e0a090cbb.png": {
     "image/png": "[encoded data removed]"
    }
   },
   "cell_type": "markdown",
   "id": "b25992f4",
   "metadata": {},
   "source": [
    "- 은닉 상태  \n",
    "![image.png](attachment:10d59931-27aa-4531-92a5-511e0a090cbb.png)"
   ]
  },
  {
   "attachments": {
    "096878b5-d2eb-4f39-9879-84cedf5766ac.png": {
     "image/png": "[encoded data removed]"
    }
   },
   "cell_type": "markdown",
   "id": "44f0ff51",
   "metadata": {},
   "source": [
    "![image.png](attachment:096878b5-d2eb-4f39-9879-84cedf5766ac.png)"
   ]
  },
  {
   "cell_type": "markdown",
   "id": "c8854314",
   "metadata": {},
   "source": [
    "```\n",
    "# 아래의 코드는 의사 코드(pseudocode)로 실제 동작하는 코드가 아님. \n",
    "\n",
    "hidden_state_t = 0 # 초기 은닉 상태를 0(벡터)로 초기화\n",
    "for input_t in input_length: # 각 시점마다 입력을 받는다.\n",
    "    output_t = tanh(input_t, hidden_state_t) # 각 시점에 대해서 입력과 은닉 상태를 가지고 연산\n",
    "    hidden_state_t = output_t # 계산 결과는 현재 시점의 은닉 상태가 된다.\n",
    "```"
   ]
  },
  {
   "cell_type": "markdown",
   "id": "3aa0f67b",
   "metadata": {},
   "source": [
    "- 입력 데이터의 길이는 곧 총 시점의 수(timesteps)"
   ]
  },
  {
   "cell_type": "code",
   "execution_count": 49,
   "id": "890b4e41",
   "metadata": {},
   "outputs": [],
   "source": [
    "import numpy as np\n",
    "\n",
    "timesteps = 10 # 시점의 수. NLP에서는 문장의 길이 \n",
    "\n",
    "input_size = 4 # 입력의 차원, NLP에서는 보통 단어 백터의 차원\n",
    "\n",
    "hidden_size = 8 # 은닉 상태의 크기. 메모리 셀의 용량\n",
    "\n",
    "\n",
    "inputs = np.random.random((timesteps, input_size)) # 입력에 해당되는 2D 텐서\n",
    "\n",
    "hidden_state_t = np.zeros((hidden_size,)) # 초기 은닉 상태는 0(벡터)로 초기화"
   ]
  },
  {
   "cell_type": "code",
   "execution_count": 50,
   "id": "0b9b974b",
   "metadata": {},
   "outputs": [],
   "source": [
    "Wx = np.random.random((hidden_size, input_size))  # (8, 4)크기의 2D 텐서 생성. 입력에 대한 가중치.\n",
    "Wh = np.random.random((hidden_size, hidden_size)) # (8, 8)크기의 2D 텐서 생성. 은닉 상태에 대한 가중치.\n",
    "b = np.random.random((hidden_size,)) # (8,)크기의 1D 텐서 생성. 이 값은 편향(bias)."
   ]
  },
  {
   "cell_type": "code",
   "execution_count": 51,
   "id": "4cf3a4eb",
   "metadata": {},
   "outputs": [
    {
     "name": "stdout",
     "output_type": "stream",
     "text": [
      "(1, 8)\n",
      "(2, 8)\n",
      "(3, 8)\n",
      "(4, 8)\n",
      "(5, 8)\n",
      "(6, 8)\n",
      "(7, 8)\n",
      "(8, 8)\n",
      "(9, 8)\n",
      "(10, 8)\n",
      "[[0.59203208 0.92904714 0.63984889 0.73479486 0.93057825 0.69872403\n",
      "  0.65378111 0.71867463]\n",
      " [0.99849847 0.99901866 0.99887605 0.99934035 0.99971311 0.99673961\n",
      "  0.99880339 0.99804148]\n",
      " [0.9994088  0.99995878 0.99976465 0.99994255 0.99997168 0.99960693\n",
      "  0.99992915 0.99980695]\n",
      " [0.99891749 0.99991888 0.99970325 0.99988657 0.99994288 0.99939812\n",
      "  0.99990685 0.99958429]\n",
      " [0.99980453 0.99997705 0.99980962 0.9999787  0.99999045 0.99987333\n",
      "  0.99994895 0.99988241]\n",
      " [0.9996472  0.99995158 0.99981017 0.99995238 0.99997791 0.99963234\n",
      "  0.99992536 0.99980329]\n",
      " [0.99986033 0.99996618 0.99988809 0.9999829  0.99998506 0.99963148\n",
      "  0.99995505 0.99994166]\n",
      " [0.99980591 0.99996422 0.99985152 0.99998097 0.99998207 0.99972561\n",
      "  0.99995748 0.99992143]\n",
      " [0.99988576 0.99998848 0.99986143 0.9999903  0.99999414 0.99989164\n",
      "  0.99996657 0.99996059]\n",
      " [0.99977007 0.9999413  0.99984083 0.99996142 0.99998036 0.99964285\n",
      "  0.9999265  0.99980957]]\n"
     ]
    }
   ],
   "source": [
    "total_hidden_states = []\n",
    "\n",
    "# 메모리 셀 동작 \n",
    "\n",
    "\n",
    "for input_t in inputs:\n",
    "    output_t = np.tanh(np.dot(Wx, input_t) +  np.dot(Wh, hidden_state_t) + b)\n",
    "    # # Wx * Xt + Wh * Ht-1 + b(bias)\n",
    "    total_hidden_states.append(list(output_t)) # 각 시점의 은닉 상태의 값을  계속해서 추적\n",
    "    print(np.shape(total_hidden_states))\n",
    "    hidden_state_t = output_t\n",
    "    \n",
    "total_hidden_states = np.stack(total_hidden_states, axis=0)\n",
    "\n",
    "print(total_hidden_states)\n",
    "# (timesteps, output_dim)의 크기. 이 경우 (10, 8)의 크기를 가지는 메모리 셀의 2D 텐서를 출력."
   ]
  },
  {
   "cell_type": "markdown",
   "id": "802e62c6",
   "metadata": {},
   "source": [
    "## 파이토치의 nn.RNN()"
   ]
  },
  {
   "cell_type": "code",
   "execution_count": 52,
   "id": "f1916e3d",
   "metadata": {},
   "outputs": [],
   "source": [
    "import torch\n",
    "import torch.nn as nn"
   ]
  },
  {
   "cell_type": "code",
   "execution_count": 53,
   "id": "a36d7e4f",
   "metadata": {},
   "outputs": [],
   "source": [
    "input_size = 5 # 입력의 크기\n",
    "hidden_size = 8 # 은닉 상태의 크기: 하이퍼파라미터"
   ]
  },
  {
   "cell_type": "code",
   "execution_count": 56,
   "id": "fa3baabb",
   "metadata": {},
   "outputs": [],
   "source": [
    "#  입력 텐서는 (배치 크기 × 시점의 수 × 매 시점마다 들어가는 입력)의 크기를 가짐\n",
    "# (batch_size, time_steps, input_size)\n",
    "inputs = torch.Tensor(1, 10, 5)"
   ]
  },
  {
   "cell_type": "code",
   "execution_count": 61,
   "id": "1ba84d67",
   "metadata": {},
   "outputs": [],
   "source": [
    "#  atch_first=True를 통해서 입력 텐서의 첫번째 차원이 배치 크기임을 알려줍\n",
    "cell = nn.RNN(input_size, hidden_size, batch_first=True)"
   ]
  },
  {
   "cell_type": "code",
   "execution_count": 65,
   "id": "46028f10",
   "metadata": {},
   "outputs": [],
   "source": [
    "outputs, _status = cell(inputs)"
   ]
  },
  {
   "cell_type": "code",
   "execution_count": 66,
   "id": "8592b62f",
   "metadata": {},
   "outputs": [
    {
     "name": "stdout",
     "output_type": "stream",
     "text": [
      "torch.Size([1, 10, 8])\n"
     ]
    }
   ],
   "source": [
    "print(outputs.shape) # 모든 time-step의 hidden_state"
   ]
  },
  {
   "cell_type": "code",
   "execution_count": 67,
   "id": "e0889da9",
   "metadata": {},
   "outputs": [
    {
     "name": "stdout",
     "output_type": "stream",
     "text": [
      "torch.Size([1, 1, 8])\n"
     ]
    }
   ],
   "source": [
    "print(_status.shape) # 최종 time-step의 hidden_state"
   ]
  },
  {
   "cell_type": "code",
   "execution_count": 68,
   "id": "f2834c91",
   "metadata": {},
   "outputs": [
    {
     "data": {
      "text/plain": [
       "tensor([[[-0.2411,  0.0387, -0.2667, -0.0318,  0.2155, -0.4854,  0.4365,\n",
       "          -0.0232]]], grad_fn=<StackBackward0>)"
      ]
     },
     "execution_count": 68,
     "metadata": {},
     "output_type": "execute_result"
    }
   ],
   "source": [
    "_status "
   ]
  },
  {
   "cell_type": "markdown",
   "id": "66a292e5",
   "metadata": {},
   "source": [
    "#### 깊은 순환 신경망(Deep Recurrent Neural Network)"
   ]
  },
  {
   "attachments": {
    "c216456e-06ce-4c55-af17-b69ab34d67f6.png": {
     "image/png": "[encoded data removed]"
    }
   },
   "cell_type": "markdown",
   "id": "49c28816",
   "metadata": {},
   "source": [
    "![image.png](attachment:c216456e-06ce-4c55-af17-b69ab34d67f6.png)"
   ]
  },
  {
   "cell_type": "markdown",
   "id": "87572119",
   "metadata": {},
   "source": [
    "- 깊은 순환 신경망을 파이토치로 구현할 때는 nn.RNN()의 인자인 num_layers에 값을 전달하여 층을 쌓음"
   ]
  },
  {
   "cell_type": "code",
   "execution_count": 69,
   "id": "917ddc35",
   "metadata": {},
   "outputs": [],
   "source": [
    "# (batch_size, time_steps, input_size)\n",
    "inputs = torch.Tensor(1, 10, 5)"
   ]
  },
  {
   "cell_type": "code",
   "execution_count": 70,
   "id": "0c354702",
   "metadata": {},
   "outputs": [],
   "source": [
    "cell = nn.RNN(input_size=5, hidden_size=8, num_layers=2, batch_first=True)"
   ]
  },
  {
   "cell_type": "code",
   "execution_count": 71,
   "id": "6a3c1397",
   "metadata": {},
   "outputs": [],
   "source": [
    "outputs, _status = cell(inputs)"
   ]
  },
  {
   "cell_type": "code",
   "execution_count": 74,
   "id": "35e4778e",
   "metadata": {},
   "outputs": [
    {
     "data": {
      "text/plain": [
       "torch.Size([2, 1, 8])"
      ]
     },
     "execution_count": 74,
     "metadata": {},
     "output_type": "execute_result"
    }
   ],
   "source": [
    "_status.shape # (층의 개수, 배치 크기, 은닉 상태의 크기)"
   ]
  },
  {
   "cell_type": "markdown",
   "id": "19f88a76",
   "metadata": {},
   "source": [
    "#### 양방향 순환 신경망(Bidirectional Recurrent Neural Network)\n",
    "\n",
    "-  출력값을 예측할 때 이전 시점의 데이터뿐만 아니라, 이후 데이터로도 예측할 수 있다는 아이디어에 기반"
   ]
  },
  {
   "cell_type": "markdown",
   "id": "c4d803c3",
   "metadata": {},
   "source": [
    "```\n",
    "Exercise is very effective at [          ] belly fat.\n",
    "\n",
    "1) reducing\n",
    "2) increasing\n",
    "3) multiplying\n",
    "```"
   ]
  },
  {
   "cell_type": "markdown",
   "id": "2c0b662c",
   "metadata": {},
   "source": [
    "- 정답을 찾기 위해서는 이전에 나온 단어들만으로는 부족\n",
    "- 실제 문제에서는 과거 시점의 데이터만 고려하는 것이 아니라 향후 시점의 데이터에 힌트가 있는 경우도 많음"
   ]
  },
  {
   "attachments": {
    "844ee5e7-9e85-45b6-924a-972430af77cf.png": {
     "image/png": "[encoded data removed]"
    }
   },
   "cell_type": "markdown",
   "id": "d3a02270",
   "metadata": {},
   "source": [
    "![image.png](attachment:844ee5e7-9e85-45b6-924a-972430af77cf.png)"
   ]
  },
  {
   "cell_type": "markdown",
   "id": "a6d6a650",
   "metadata": {},
   "source": [
    "- 하나의 출력값을 예측하기 위해 기본적으로 두 개의 메모리 셀을 사용\n",
    "- 첫번째 메모리 셀은 앞에서 배운 것처럼 앞 시점의 은닉 상태(Forward States)를 전달받아 현재의 은닉 상태를 계산(주황)\n",
    "- 두번째 메모리 셀은 앞에서 배운 것과는 다릅니다. 앞 시점의 은닉 상태가 아니라 뒤 시점의 은닉 상태(Backward States)를 전달 받아 현재의 은닉 상태를 계산(초록)\n",
    "- 이 두 개의 값 모두가 출력층에서 출력값을 예측하기 위해 사용"
   ]
  },
  {
   "attachments": {
    "5e4a7097-7ec5-4ffc-b1f9-d4cad08aaecd.png": {
     "image/png": "[encoded data removed]"
    }
   },
   "cell_type": "markdown",
   "id": "00c6c8c3",
   "metadata": {},
   "source": [
    "![image.png](attachment:5e4a7097-7ec5-4ffc-b1f9-d4cad08aaecd.png)"
   ]
  },
  {
   "cell_type": "markdown",
   "id": "5173bced",
   "metadata": {},
   "source": [
    "- 깊은(deep) 양방향 순환 신경망도 가능"
   ]
  },
  {
   "cell_type": "markdown",
   "id": "dfc9f76a",
   "metadata": {},
   "source": [
    "- 양방향 순환 신경망을 파이토치로 구현할 때는 nn.RNN()의 인자인 bidirectional에 값을 True로 전달하면 된다."
   ]
  },
  {
   "cell_type": "code",
   "execution_count": 75,
   "id": "88a33611",
   "metadata": {},
   "outputs": [],
   "source": [
    "# (batch_size, time_steps, input_size)\n",
    "inputs = torch.Tensor(1, 10, 5)"
   ]
  },
  {
   "cell_type": "code",
   "execution_count": 76,
   "id": "60937e4b",
   "metadata": {},
   "outputs": [],
   "source": [
    "cell = nn.RNN(input_size = 5, hidden_size = 8, num_layers = 2, batch_first=True, bidirectional = True)"
   ]
  },
  {
   "cell_type": "code",
   "execution_count": 77,
   "id": "cada2b18",
   "metadata": {},
   "outputs": [],
   "source": [
    "outputs, _status = cell(inputs)"
   ]
  },
  {
   "cell_type": "code",
   "execution_count": 78,
   "id": "612c6c28",
   "metadata": {},
   "outputs": [
    {
     "name": "stdout",
     "output_type": "stream",
     "text": [
      "torch.Size([1, 10, 16])\n"
     ]
    }
   ],
   "source": [
    "print(outputs.shape) "
   ]
  },
  {
   "cell_type": "markdown",
   "id": "7a7f6cfd",
   "metadata": {},
   "source": [
    "- 첫번째 리턴값의 크기는 단뱡 RNN 셀 때보다 은닉 상태의 크기의 값이 두 배가 되었음\n",
    "- 여기서는 (배치 크기, 시퀀스 길이, 은닉 상태의 크기 x 2)의 크기를 가짐 \n",
    "- 이는 양방향의 은닉 상태 값들이 연결(concatenate)되었기 때문"
   ]
  },
  {
   "cell_type": "code",
   "execution_count": 81,
   "id": "3fd77624",
   "metadata": {},
   "outputs": [
    {
     "name": "stdout",
     "output_type": "stream",
     "text": [
      "torch.Size([4, 1, 8])\n"
     ]
    }
   ],
   "source": [
    "print(_status.shape) # (층의 개수 x 2, 배치 크기, 은닉 상태의 크기)"
   ]
  },
  {
   "cell_type": "markdown",
   "id": "2efd28c9",
   "metadata": {},
   "source": [
    "## 문자 단위 RNN(Char RNN)"
   ]
  },
  {
   "cell_type": "markdown",
   "id": "e64418f9",
   "metadata": {},
   "source": [
    "- RNN의 입출력의 단위가 단어 레벨(word-level)이 아니라 문자 레벨(character-level)\n",
    "- RNN을 다대다 구조로 구현해보자"
   ]
  },
  {
   "cell_type": "code",
   "execution_count": 223,
   "id": "343db7a9",
   "metadata": {},
   "outputs": [],
   "source": [
    "import torch\n",
    "import torch.nn as nn\n",
    "import torch.optim as optim\n",
    "import numpy as np"
   ]
  },
  {
   "cell_type": "markdown",
   "id": "b1d85a6c",
   "metadata": {},
   "source": [
    "- apple을 입력받으면 pple!를 출력하는 RNN을 구현"
   ]
  },
  {
   "cell_type": "code",
   "execution_count": 224,
   "id": "8b1d1292",
   "metadata": {},
   "outputs": [
    {
     "name": "stdout",
     "output_type": "stream",
     "text": [
      "문자 집합의 크기 : 5\n"
     ]
    }
   ],
   "source": [
    "input_str = 'apple'\n",
    "label_str = 'pple!'\n",
    "\n",
    "char_vocab = sorted(list(set(input_str+label_str)))\n",
    "vocab_size = len(char_vocab)\n",
    "print ('문자 집합의 크기 : {}'.format(vocab_size))"
   ]
  },
  {
   "cell_type": "code",
   "execution_count": 225,
   "id": "05f190a3",
   "metadata": {},
   "outputs": [],
   "source": [
    "input_size = vocab_size # 입력의 크기는 문자 집합의 크기\n",
    "hidden_size = 5\n",
    "output_size = 5\n",
    "learning_rate = 0.1"
   ]
  },
  {
   "cell_type": "code",
   "execution_count": 226,
   "id": "8f706552",
   "metadata": {},
   "outputs": [
    {
     "name": "stdout",
     "output_type": "stream",
     "text": [
      "{'!': 0, 'a': 1, 'e': 2, 'l': 3, 'p': 4}\n"
     ]
    }
   ],
   "source": [
    "# 문자 집합에 고유한 정수 부여 \n",
    "char_to_index = dict((c, i) for i, c in enumerate(char_vocab)) # 문자에 고유한 정수 인덱스 부여\n",
    "print(char_to_index)"
   ]
  },
  {
   "cell_type": "code",
   "execution_count": 227,
   "id": "e8d1421c",
   "metadata": {},
   "outputs": [
    {
     "name": "stdout",
     "output_type": "stream",
     "text": [
      "{0: '!', 1: 'a', 2: 'e', 3: 'l', 4: 'p'}\n"
     ]
    }
   ],
   "source": [
    "# 정수로부터 문자를 얻을 수 있는 사전\n",
    "index_to_char = {}\n",
    "\n",
    "for key, value in char_to_index.items():\n",
    "    index_to_char[value] = key\n",
    "\n",
    "print(index_to_char)"
   ]
  },
  {
   "cell_type": "code",
   "execution_count": 228,
   "id": "febcf2ce",
   "metadata": {},
   "outputs": [
    {
     "name": "stdout",
     "output_type": "stream",
     "text": [
      "[1, 4, 4, 3, 2]\n",
      "[4, 4, 3, 2, 0]\n"
     ]
    }
   ],
   "source": [
    "# 정수로 변환\n",
    "\n",
    "x_data = [char_to_index[c] for c in input_str]\n",
    "y_data = [char_to_index[c] for c in label_str]\n",
    "\n",
    "print(x_data)\n",
    "print(y_data)"
   ]
  },
  {
   "cell_type": "code",
   "execution_count": 229,
   "id": "90826985",
   "metadata": {},
   "outputs": [
    {
     "name": "stdout",
     "output_type": "stream",
     "text": [
      "[[1, 4, 4, 3, 2]]\n",
      "[[4, 4, 3, 2, 0]]\n"
     ]
    }
   ],
   "source": [
    "# 배치 차원 추가\n",
    "x_data = [x_data]\n",
    "y_data = [y_data]\n",
    "print(x_data)\n",
    "print(y_data)"
   ]
  },
  {
   "cell_type": "code",
   "execution_count": 230,
   "id": "728b1e9e",
   "metadata": {},
   "outputs": [],
   "source": [
    "#  각 문자들을 원-핫 벡터로 바꾸자 "
   ]
  },
  {
   "cell_type": "code",
   "execution_count": 231,
   "id": "b5847edc",
   "metadata": {},
   "outputs": [
    {
     "data": {
      "text/plain": [
       "4"
      ]
     },
     "execution_count": 231,
     "metadata": {},
     "output_type": "execute_result"
    }
   ],
   "source": [
    "x_data[0][1]"
   ]
  },
  {
   "cell_type": "code",
   "execution_count": 232,
   "id": "15421d74",
   "metadata": {},
   "outputs": [
    {
     "name": "stdout",
     "output_type": "stream",
     "text": [
      "[array([[0., 1., 0., 0., 0.],\n",
      "       [0., 0., 0., 0., 1.],\n",
      "       [0., 0., 0., 0., 1.],\n",
      "       [0., 0., 0., 1., 0.],\n",
      "       [0., 0., 1., 0., 0.]])]\n"
     ]
    }
   ],
   "source": [
    "x_one_hot = [np.eye(vocab_size)[x] for x in x_data]\n",
    "print(x_one_hot)"
   ]
  },
  {
   "cell_type": "code",
   "execution_count": 233,
   "id": "5e2a8d14",
   "metadata": {},
   "outputs": [],
   "source": [
    "X = torch.FloatTensor(x_one_hot)"
   ]
  },
  {
   "cell_type": "code",
   "execution_count": 234,
   "id": "8cac0466",
   "metadata": {},
   "outputs": [],
   "source": [
    "Y = torch.LongTensor(y_data)"
   ]
  },
  {
   "cell_type": "code",
   "execution_count": 235,
   "id": "3db4ecce",
   "metadata": {},
   "outputs": [
    {
     "name": "stdout",
     "output_type": "stream",
     "text": [
      "훈련 데이터의 크기 : torch.Size([1, 5, 5])\n",
      "레이블의 크기 : torch.Size([1, 5])\n"
     ]
    }
   ],
   "source": [
    "print('훈련 데이터의 크기 : {}'.format(X.shape))\n",
    "print('레이블의 크기 : {}'.format(Y.shape))"
   ]
  },
  {
   "cell_type": "markdown",
   "id": "f38e0f32",
   "metadata": {},
   "source": [
    "- 모델 구현 "
   ]
  },
  {
   "cell_type": "code",
   "execution_count": 236,
   "id": "11dc43e4",
   "metadata": {},
   "outputs": [],
   "source": [
    "class Net(torch.nn.Module):\n",
    "    def __init__(self, input_size, hidden_size, output_size):\n",
    "        super(Net, self).__init__()\n",
    "        self.rnn = torch.nn.RNN(input_size, hidden_size, batch_first=True)\n",
    "        \n",
    "        # 출력층\n",
    "        self.fc = torch.nn.Linear(hidden_size, output_size, bias=True)\n",
    "        \n",
    "\n",
    "    def forward(self, x):\n",
    "        x, _staus = self.rnn(x)\n",
    "        x = self.fc(x)\n",
    "        \n",
    "        return x"
   ]
  },
  {
   "cell_type": "code",
   "execution_count": 237,
   "id": "c2a60be2",
   "metadata": {},
   "outputs": [],
   "source": [
    "net = Net(input_size, hidden_size, output_size)"
   ]
  },
  {
   "cell_type": "code",
   "execution_count": 238,
   "id": "93360d63",
   "metadata": {},
   "outputs": [
    {
     "name": "stdout",
     "output_type": "stream",
     "text": [
      "torch.Size([1, 5, 5])\n"
     ]
    }
   ],
   "source": [
    "outputs = net(X)\n",
    "print(outputs.shape) # 3차원 텐서"
   ]
  },
  {
   "cell_type": "code",
   "execution_count": 239,
   "id": "60c566fc",
   "metadata": {},
   "outputs": [
    {
     "name": "stdout",
     "output_type": "stream",
     "text": [
      "torch.Size([5, 5])\n"
     ]
    }
   ],
   "source": [
    "print(outputs.view(-1, input_size).shape) # 2차원 텐서로 변환"
   ]
  },
  {
   "cell_type": "code",
   "execution_count": 240,
   "id": "47829560",
   "metadata": {},
   "outputs": [
    {
     "name": "stdout",
     "output_type": "stream",
     "text": [
      "torch.Size([1, 5])\n",
      "torch.Size([5])\n"
     ]
    }
   ],
   "source": [
    "print(Y.shape)\n",
    "print(Y.view(-1).shape)"
   ]
  },
  {
   "cell_type": "code",
   "execution_count": 241,
   "id": "a24e7e40",
   "metadata": {},
   "outputs": [],
   "source": [
    "criterion = torch.nn.CrossEntropyLoss()\n",
    "optimizer = optim.Adam(net.parameters(), learning_rate)"
   ]
  },
  {
   "cell_type": "code",
   "execution_count": 242,
   "id": "0e9d3f3f",
   "metadata": {},
   "outputs": [],
   "source": [
    "outputs = net(X)"
   ]
  },
  {
   "cell_type": "code",
   "execution_count": 243,
   "id": "9c7424c4",
   "metadata": {},
   "outputs": [
    {
     "data": {
      "text/plain": [
       "tensor([[[-0.2188, -0.3051, -0.0710,  0.2775,  0.0743],\n",
       "         [-0.3072, -0.3190,  0.1138,  0.4032,  0.2005],\n",
       "         [-0.2946, -0.3902,  0.0583,  0.3767,  0.2031],\n",
       "         [-0.1879, -0.3174, -0.0751,  0.5840,  0.4285],\n",
       "         [-0.4086, -0.2821,  0.0244,  0.4114,  0.0233]]])"
      ]
     },
     "execution_count": 243,
     "metadata": {},
     "output_type": "execute_result"
    }
   ],
   "source": [
    "outputs.data"
   ]
  },
  {
   "cell_type": "code",
   "execution_count": 244,
   "id": "c2247927",
   "metadata": {},
   "outputs": [],
   "source": [
    "result = outputs.data.numpy().argmax(axis=1)"
   ]
  },
  {
   "cell_type": "code",
   "execution_count": 245,
   "id": "dec9e4db",
   "metadata": {},
   "outputs": [
    {
     "data": {
      "text/plain": [
       "array([3, 4, 1, 3, 3])"
      ]
     },
     "execution_count": 245,
     "metadata": {},
     "output_type": "execute_result"
    }
   ],
   "source": [
    "np.squeeze(result)"
   ]
  },
  {
   "cell_type": "code",
   "execution_count": 247,
   "id": "58f43ada",
   "metadata": {},
   "outputs": [
    {
     "name": "stdout",
     "output_type": "stream",
     "text": [
      "0 loss:  4.227039607940242e-05 prediction:  [[4 4 3 2 0]] true Y:  [[4, 4, 3, 2, 0]] prediction str:  pple!\n",
      "1 loss:  4.227039607940242e-05 prediction:  [[4 4 3 2 0]] true Y:  [[4, 4, 3, 2, 0]] prediction str:  pple!\n",
      "2 loss:  4.217503737891093e-05 prediction:  [[4 4 3 2 0]] true Y:  [[4, 4, 3, 2, 0]] prediction str:  pple!\n",
      "3 loss:  4.212735439068638e-05 prediction:  [[4 4 3 2 0]] true Y:  [[4, 4, 3, 2, 0]] prediction str:  pple!\n",
      "4 loss:  4.2079675040440634e-05 prediction:  [[4 4 3 2 0]] true Y:  [[4, 4, 3, 2, 0]] prediction str:  pple!\n",
      "5 loss:  4.198430906399153e-05 prediction:  [[4 4 3 2 0]] true Y:  [[4, 4, 3, 2, 0]] prediction str:  pple!\n",
      "6 loss:  4.1912790038622916e-05 prediction:  [[4 4 3 2 0]] true Y:  [[4, 4, 3, 2, 0]] prediction str:  pple!\n",
      "7 loss:  4.18412710132543e-05 prediction:  [[4 4 3 2 0]] true Y:  [[4, 4, 3, 2, 0]] prediction str:  pple!\n",
      "8 loss:  4.179358802502975e-05 prediction:  [[4 4 3 2 0]] true Y:  [[4, 4, 3, 2, 0]] prediction str:  pple!\n",
      "9 loss:  4.169822932453826e-05 prediction:  [[4 4 3 2 0]] true Y:  [[4, 4, 3, 2, 0]] prediction str:  pple!\n",
      "10 loss:  4.169822932453826e-05 prediction:  [[4 4 3 2 0]] true Y:  [[4, 4, 3, 2, 0]] prediction str:  pple!\n",
      "11 loss:  4.1602866986067966e-05 prediction:  [[4 4 3 2 0]] true Y:  [[4, 4, 3, 2, 0]] prediction str:  pple!\n",
      "12 loss:  4.1602866986067966e-05 prediction:  [[4 4 3 2 0]] true Y:  [[4, 4, 3, 2, 0]] prediction str:  pple!\n",
      "13 loss:  4.14836649724748e-05 prediction:  [[4 4 3 2 0]] true Y:  [[4, 4, 3, 2, 0]] prediction str:  pple!\n",
      "14 loss:  4.1412142309127375e-05 prediction:  [[4 4 3 2 0]] true Y:  [[4, 4, 3, 2, 0]] prediction str:  pple!\n",
      "15 loss:  4.1364459320902824e-05 prediction:  [[4 4 3 2 0]] true Y:  [[4, 4, 3, 2, 0]] prediction str:  pple!\n",
      "16 loss:  4.129294029553421e-05 prediction:  [[4 4 3 2 0]] true Y:  [[4, 4, 3, 2, 0]] prediction str:  pple!\n",
      "17 loss:  4.122142127016559e-05 prediction:  [[4 4 3 2 0]] true Y:  [[4, 4, 3, 2, 0]] prediction str:  pple!\n",
      "18 loss:  4.117373828194104e-05 prediction:  [[4 4 3 2 0]] true Y:  [[4, 4, 3, 2, 0]] prediction str:  pple!\n",
      "19 loss:  4.110221198061481e-05 prediction:  [[4 4 3 2 0]] true Y:  [[4, 4, 3, 2, 0]] prediction str:  pple!\n",
      "20 loss:  4.1030692955246195e-05 prediction:  [[4 4 3 2 0]] true Y:  [[4, 4, 3, 2, 0]] prediction str:  pple!\n",
      "21 loss:  4.095917029189877e-05 prediction:  [[4 4 3 2 0]] true Y:  [[4, 4, 3, 2, 0]] prediction str:  pple!\n",
      "22 loss:  4.091149094165303e-05 prediction:  [[4 4 3 2 0]] true Y:  [[4, 4, 3, 2, 0]] prediction str:  pple!\n",
      "23 loss:  4.081612860318273e-05 prediction:  [[4 4 3 2 0]] true Y:  [[4, 4, 3, 2, 0]] prediction str:  pple!\n",
      "24 loss:  4.0792285290081054e-05 prediction:  [[4 4 3 2 0]] true Y:  [[4, 4, 3, 2, 0]] prediction str:  pple!\n",
      "25 loss:  4.0696926589589566e-05 prediction:  [[4 4 3 2 0]] true Y:  [[4, 4, 3, 2, 0]] prediction str:  pple!\n",
      "26 loss:  4.0696926589589566e-05 prediction:  [[4 4 3 2 0]] true Y:  [[4, 4, 3, 2, 0]] prediction str:  pple!\n",
      "27 loss:  4.0601560613140464e-05 prediction:  [[4 4 3 2 0]] true Y:  [[4, 4, 3, 2, 0]] prediction str:  pple!\n",
      "28 loss:  4.053004158777185e-05 prediction:  [[4 4 3 2 0]] true Y:  [[4, 4, 3, 2, 0]] prediction str:  pple!\n",
      "29 loss:  4.045852256240323e-05 prediction:  [[4 4 3 2 0]] true Y:  [[4, 4, 3, 2, 0]] prediction str:  pple!\n",
      "30 loss:  4.041083957417868e-05 prediction:  [[4 4 3 2 0]] true Y:  [[4, 4, 3, 2, 0]] prediction str:  pple!\n",
      "31 loss:  4.0339320548810065e-05 prediction:  [[4 4 3 2 0]] true Y:  [[4, 4, 3, 2, 0]] prediction str:  pple!\n",
      "32 loss:  4.0267794247483835e-05 prediction:  [[4 4 3 2 0]] true Y:  [[4, 4, 3, 2, 0]] prediction str:  pple!\n",
      "33 loss:  4.02201185352169e-05 prediction:  [[4 4 3 2 0]] true Y:  [[4, 4, 3, 2, 0]] prediction str:  pple!\n",
      "34 loss:  4.019627522211522e-05 prediction:  [[4 4 3 2 0]] true Y:  [[4, 4, 3, 2, 0]] prediction str:  pple!\n",
      "35 loss:  4.0100912883644924e-05 prediction:  [[4 4 3 2 0]] true Y:  [[4, 4, 3, 2, 0]] prediction str:  pple!\n",
      "36 loss:  4.005322989542037e-05 prediction:  [[4 4 3 2 0]] true Y:  [[4, 4, 3, 2, 0]] prediction str:  pple!\n",
      "37 loss:  3.9957871194928885e-05 prediction:  [[4 4 3 2 0]] true Y:  [[4, 4, 3, 2, 0]] prediction str:  pple!\n",
      "38 loss:  3.9934027881827205e-05 prediction:  [[4 4 3 2 0]] true Y:  [[4, 4, 3, 2, 0]] prediction str:  pple!\n",
      "39 loss:  3.988634853158146e-05 prediction:  [[4 4 3 2 0]] true Y:  [[4, 4, 3, 2, 0]] prediction str:  pple!\n",
      "40 loss:  3.983866918133572e-05 prediction:  [[4 4 3 2 0]] true Y:  [[4, 4, 3, 2, 0]] prediction str:  pple!\n",
      "41 loss:  3.9743303204886615e-05 prediction:  [[4 4 3 2 0]] true Y:  [[4, 4, 3, 2, 0]] prediction str:  pple!\n",
      "42 loss:  3.971946352976374e-05 prediction:  [[4 4 3 2 0]] true Y:  [[4, 4, 3, 2, 0]] prediction str:  pple!\n",
      "43 loss:  3.962410119129345e-05 prediction:  [[4 4 3 2 0]] true Y:  [[4, 4, 3, 2, 0]] prediction str:  pple!\n",
      "44 loss:  3.9552578527946025e-05 prediction:  [[4 4 3 2 0]] true Y:  [[4, 4, 3, 2, 0]] prediction str:  pple!\n",
      "45 loss:  3.9552578527946025e-05 prediction:  [[4 4 3 2 0]] true Y:  [[4, 4, 3, 2, 0]] prediction str:  pple!\n",
      "46 loss:  3.945721982745454e-05 prediction:  [[4 4 3 2 0]] true Y:  [[4, 4, 3, 2, 0]] prediction str:  pple!\n",
      "47 loss:  3.9433380152331665e-05 prediction:  [[4 4 3 2 0]] true Y:  [[4, 4, 3, 2, 0]] prediction str:  pple!\n",
      "48 loss:  3.9385697164107114e-05 prediction:  [[4 4 3 2 0]] true Y:  [[4, 4, 3, 2, 0]] prediction str:  pple!\n",
      "49 loss:  3.926649151253514e-05 prediction:  [[4 4 3 2 0]] true Y:  [[4, 4, 3, 2, 0]] prediction str:  pple!\n",
      "50 loss:  3.924265183741227e-05 prediction:  [[4 4 3 2 0]] true Y:  [[4, 4, 3, 2, 0]] prediction str:  pple!\n",
      "51 loss:  3.914729313692078e-05 prediction:  [[4 4 3 2 0]] true Y:  [[4, 4, 3, 2, 0]] prediction str:  pple!\n",
      "52 loss:  3.909961014869623e-05 prediction:  [[4 4 3 2 0]] true Y:  [[4, 4, 3, 2, 0]] prediction str:  pple!\n",
      "53 loss:  3.907577047357336e-05 prediction:  [[4 4 3 2 0]] true Y:  [[4, 4, 3, 2, 0]] prediction str:  pple!\n",
      "54 loss:  3.9004247810225934e-05 prediction:  [[4 4 3 2 0]] true Y:  [[4, 4, 3, 2, 0]] prediction str:  pple!\n",
      "55 loss:  3.895656845998019e-05 prediction:  [[4 4 3 2 0]] true Y:  [[4, 4, 3, 2, 0]] prediction str:  pple!\n",
      "56 loss:  3.886120248353109e-05 prediction:  [[4 4 3 2 0]] true Y:  [[4, 4, 3, 2, 0]] prediction str:  pple!\n",
      "57 loss:  3.8837362808408216e-05 prediction:  [[4 4 3 2 0]] true Y:  [[4, 4, 3, 2, 0]] prediction str:  pple!\n",
      "58 loss:  3.878968345816247e-05 prediction:  [[4 4 3 2 0]] true Y:  [[4, 4, 3, 2, 0]] prediction str:  pple!\n",
      "59 loss:  3.871816079481505e-05 prediction:  [[4 4 3 2 0]] true Y:  [[4, 4, 3, 2, 0]] prediction str:  pple!\n",
      "60 loss:  3.8670481444569305e-05 prediction:  [[4 4 3 2 0]] true Y:  [[4, 4, 3, 2, 0]] prediction str:  pple!\n",
      "61 loss:  3.85751154681202e-05 prediction:  [[4 4 3 2 0]] true Y:  [[4, 4, 3, 2, 0]] prediction str:  pple!\n",
      "62 loss:  3.852743247989565e-05 prediction:  [[4 4 3 2 0]] true Y:  [[4, 4, 3, 2, 0]] prediction str:  pple!\n",
      "63 loss:  3.847975312964991e-05 prediction:  [[4 4 3 2 0]] true Y:  [[4, 4, 3, 2, 0]] prediction str:  pple!\n",
      "64 loss:  3.843207377940416e-05 prediction:  [[4 4 3 2 0]] true Y:  [[4, 4, 3, 2, 0]] prediction str:  pple!\n",
      "65 loss:  3.838439442915842e-05 prediction:  [[4 4 3 2 0]] true Y:  [[4, 4, 3, 2, 0]] prediction str:  pple!\n",
      "66 loss:  3.833670780295506e-05 prediction:  [[4 4 3 2 0]] true Y:  [[4, 4, 3, 2, 0]] prediction str:  pple!\n",
      "67 loss:  3.824134910246357e-05 prediction:  [[4 4 3 2 0]] true Y:  [[4, 4, 3, 2, 0]] prediction str:  pple!\n",
      "68 loss:  3.819366611423902e-05 prediction:  [[4 4 3 2 0]] true Y:  [[4, 4, 3, 2, 0]] prediction str:  pple!\n",
      "69 loss:  3.8122147088870406e-05 prediction:  [[4 4 3 2 0]] true Y:  [[4, 4, 3, 2, 0]] prediction str:  pple!\n",
      "70 loss:  3.809830377576873e-05 prediction:  [[4 4 3 2 0]] true Y:  [[4, 4, 3, 2, 0]] prediction str:  pple!\n",
      "71 loss:  3.8050620787544176e-05 prediction:  [[4 4 3 2 0]] true Y:  [[4, 4, 3, 2, 0]] prediction str:  pple!\n",
      "72 loss:  3.797910176217556e-05 prediction:  [[4 4 3 2 0]] true Y:  [[4, 4, 3, 2, 0]] prediction str:  pple!\n",
      "73 loss:  3.797910176217556e-05 prediction:  [[4 4 3 2 0]] true Y:  [[4, 4, 3, 2, 0]] prediction str:  pple!\n",
      "74 loss:  3.7907582736806944e-05 prediction:  [[4 4 3 2 0]] true Y:  [[4, 4, 3, 2, 0]] prediction str:  pple!\n",
      "75 loss:  3.7812213122379035e-05 prediction:  [[4 4 3 2 0]] true Y:  [[4, 4, 3, 2, 0]] prediction str:  pple!\n",
      "76 loss:  3.77645374101121e-05 prediction:  [[4 4 3 2 0]] true Y:  [[4, 4, 3, 2, 0]] prediction str:  pple!\n",
      "77 loss:  3.7693014746764675e-05 prediction:  [[4 4 3 2 0]] true Y:  [[4, 4, 3, 2, 0]] prediction str:  pple!\n",
      "78 loss:  3.764533539651893e-05 prediction:  [[4 4 3 2 0]] true Y:  [[4, 4, 3, 2, 0]] prediction str:  pple!\n",
      "79 loss:  3.759765240829438e-05 prediction:  [[4 4 3 2 0]] true Y:  [[4, 4, 3, 2, 0]] prediction str:  pple!\n",
      "80 loss:  3.75738090951927e-05 prediction:  [[4 4 3 2 0]] true Y:  [[4, 4, 3, 2, 0]] prediction str:  pple!\n",
      "81 loss:  3.7502290069824085e-05 prediction:  [[4 4 3 2 0]] true Y:  [[4, 4, 3, 2, 0]] prediction str:  pple!\n",
      "82 loss:  3.740692773135379e-05 prediction:  [[4 4 3 2 0]] true Y:  [[4, 4, 3, 2, 0]] prediction str:  pple!\n",
      "83 loss:  3.735924474312924e-05 prediction:  [[4 4 3 2 0]] true Y:  [[4, 4, 3, 2, 0]] prediction str:  pple!\n",
      "84 loss:  3.7335405068006366e-05 prediction:  [[4 4 3 2 0]] true Y:  [[4, 4, 3, 2, 0]] prediction str:  pple!\n",
      "85 loss:  3.724004272953607e-05 prediction:  [[4 4 3 2 0]] true Y:  [[4, 4, 3, 2, 0]] prediction str:  pple!\n",
      "86 loss:  3.72162030544132e-05 prediction:  [[4 4 3 2 0]] true Y:  [[4, 4, 3, 2, 0]] prediction str:  pple!\n",
      "87 loss:  3.716852006618865e-05 prediction:  [[4 4 3 2 0]] true Y:  [[4, 4, 3, 2, 0]] prediction str:  pple!\n",
      "88 loss:  3.7073154089739546e-05 prediction:  [[4 4 3 2 0]] true Y:  [[4, 4, 3, 2, 0]] prediction str:  pple!\n",
      "89 loss:  3.7073154089739546e-05 prediction:  [[4 4 3 2 0]] true Y:  [[4, 4, 3, 2, 0]] prediction str:  pple!\n",
      "90 loss:  3.697779175126925e-05 prediction:  [[4 4 3 2 0]] true Y:  [[4, 4, 3, 2, 0]] prediction str:  pple!\n",
      "91 loss:  3.697779175126925e-05 prediction:  [[4 4 3 2 0]] true Y:  [[4, 4, 3, 2, 0]] prediction str:  pple!\n",
      "92 loss:  3.688243305077776e-05 prediction:  [[4 4 3 2 0]] true Y:  [[4, 4, 3, 2, 0]] prediction str:  pple!\n",
      "93 loss:  3.681091038743034e-05 prediction:  [[4 4 3 2 0]] true Y:  [[4, 4, 3, 2, 0]] prediction str:  pple!\n",
      "94 loss:  3.681091038743034e-05 prediction:  [[4 4 3 2 0]] true Y:  [[4, 4, 3, 2, 0]] prediction str:  pple!\n",
      "95 loss:  3.6715548048960045e-05 prediction:  [[4 4 3 2 0]] true Y:  [[4, 4, 3, 2, 0]] prediction str:  pple!\n",
      "96 loss:  3.6691704735858366e-05 prediction:  [[4 4 3 2 0]] true Y:  [[4, 4, 3, 2, 0]] prediction str:  pple!\n",
      "97 loss:  3.662018571048975e-05 prediction:  [[4 4 3 2 0]] true Y:  [[4, 4, 3, 2, 0]] prediction str:  pple!\n",
      "98 loss:  3.659634239738807e-05 prediction:  [[4 4 3 2 0]] true Y:  [[4, 4, 3, 2, 0]] prediction str:  pple!\n",
      "99 loss:  3.654865940916352e-05 prediction:  [[4 4 3 2 0]] true Y:  [[4, 4, 3, 2, 0]] prediction str:  pple!\n"
     ]
    }
   ],
   "source": [
    "# 100번의 에포크 \n",
    "\n",
    "for i in range(100):\n",
    "    optimizer.zero_grad()\n",
    "    outputs = net(X)\n",
    "    loss = criterion(outputs.view(-1, input_size), Y.view(-1)) # view를 하는 이유는 Batch 차원 제거를 위해\n",
    "    \n",
    "    loss.backward() # 기울기 계산\n",
    "    optimizer.step() \n",
    "    \n",
    "   \n",
    "    # 아래 세 줄은 모델이 실제 어떻게 예측했는지를 확인하기 위한 코드.\n",
    "    result = outputs.data.numpy().argmax(axis=2) # 최종 예측값인 각 time-step 별 5차원 벡터에 대해서 가장 높은 값의 인덱스를 선택\n",
    "    result_str = ''.join([index_to_char[c] for c in np.squeeze(result)])\n",
    "    print(i, \"loss: \", loss.item(), \"prediction: \", result, \"true Y: \", y_data, \"prediction str: \", result_str)"
   ]
  },
  {
   "cell_type": "markdown",
   "id": "5e19e116",
   "metadata": {},
   "source": [
    "##### 좀더 응용"
   ]
  },
  {
   "cell_type": "code",
   "execution_count": 248,
   "id": "6396644d",
   "metadata": {},
   "outputs": [],
   "source": [
    "import torch\n",
    "import torch.nn as nn\n",
    "import torch.optim as optim"
   ]
  },
  {
   "cell_type": "code",
   "execution_count": 249,
   "id": "7da201e3",
   "metadata": {},
   "outputs": [],
   "source": [
    "sentence = (\"if you want to build a ship, don't drum up people together to \"\n",
    "            \"collect wood and don't assign them tasks and work, but rather \"\n",
    "            \"teach them to long for the endless immensity of the sea.\")"
   ]
  },
  {
   "cell_type": "code",
   "execution_count": 250,
   "id": "728c4712",
   "metadata": {},
   "outputs": [
    {
     "data": {
      "text/plain": [
       "\"if you want to build a ship, don't drum up people together to collect wood and don't assign them tasks and work, but rather teach them to long for the endless immensity of the sea.\""
      ]
     },
     "execution_count": 250,
     "metadata": {},
     "output_type": "execute_result"
    }
   ],
   "source": [
    "sentence"
   ]
  },
  {
   "cell_type": "code",
   "execution_count": 251,
   "id": "33724f75",
   "metadata": {},
   "outputs": [],
   "source": [
    "char_set = list(set(sentence))\n",
    "char_dic = {c : i for i, c in enumerate(char_set)}"
   ]
  },
  {
   "cell_type": "code",
   "execution_count": 252,
   "id": "1ba6da50",
   "metadata": {},
   "outputs": [
    {
     "data": {
      "text/plain": [
       "{'f': 0,\n",
       " 't': 1,\n",
       " 'a': 2,\n",
       " 'u': 3,\n",
       " 'r': 4,\n",
       " 'l': 5,\n",
       " 's': 6,\n",
       " 'p': 7,\n",
       " '.': 8,\n",
       " 'c': 9,\n",
       " 'm': 10,\n",
       " 'i': 11,\n",
       " 'k': 12,\n",
       " 'g': 13,\n",
       " 'n': 14,\n",
       " 'y': 15,\n",
       " 'h': 16,\n",
       " ',': 17,\n",
       " \"'\": 18,\n",
       " 'd': 19,\n",
       " 'o': 20,\n",
       " ' ': 21,\n",
       " 'b': 22,\n",
       " 'w': 23,\n",
       " 'e': 24}"
      ]
     },
     "execution_count": 252,
     "metadata": {},
     "output_type": "execute_result"
    }
   ],
   "source": [
    "char_dic # # 공백도 여기서는 하나의 원소"
   ]
  },
  {
   "cell_type": "code",
   "execution_count": 253,
   "id": "d8c4d9c0",
   "metadata": {},
   "outputs": [
    {
     "name": "stdout",
     "output_type": "stream",
     "text": [
      "문자 집합의 크기 : 25\n"
     ]
    }
   ],
   "source": [
    "dic_size = len(char_dic)\n",
    "print('문자 집합의 크기 : {}'.format(dic_size))"
   ]
  },
  {
   "cell_type": "code",
   "execution_count": 254,
   "id": "5405f9db",
   "metadata": {},
   "outputs": [],
   "source": [
    "# 하이퍼파라미터 설정\n",
    "hidden_size = dic_size\n",
    "\n",
    "sequence_length = 10  # 임의 숫자 지정\n",
    "learning_rate = 0.1"
   ]
  },
  {
   "cell_type": "markdown",
   "id": "8c7856d3",
   "metadata": {},
   "source": [
    "- 임의로 지정한 sequence_length 값인 10의 단위로 샘플들을 잘라서 데이터를 만듬 "
   ]
  },
  {
   "cell_type": "code",
   "execution_count": 255,
   "id": "f4e7a6ed",
   "metadata": {},
   "outputs": [
    {
     "name": "stdout",
     "output_type": "stream",
     "text": [
      "0 if you wan -> f you want\n",
      "1 f you want ->  you want \n",
      "2  you want  -> you want t\n",
      "3 you want t -> ou want to\n",
      "4 ou want to -> u want to \n",
      "5 u want to  ->  want to b\n",
      "6  want to b -> want to bu\n",
      "7 want to bu -> ant to bui\n",
      "8 ant to bui -> nt to buil\n",
      "9 nt to buil -> t to build\n",
      "10 t to build ->  to build \n",
      "11  to build  -> to build a\n",
      "12 to build a -> o build a \n",
      "13 o build a  ->  build a s\n",
      "14  build a s -> build a sh\n",
      "15 build a sh -> uild a shi\n",
      "16 uild a shi -> ild a ship\n",
      "17 ild a ship -> ld a ship,\n",
      "18 ld a ship, -> d a ship, \n",
      "19 d a ship,  ->  a ship, d\n",
      "20  a ship, d -> a ship, do\n",
      "21 a ship, do ->  ship, don\n",
      "22  ship, don -> ship, don'\n",
      "23 ship, don' -> hip, don't\n",
      "24 hip, don't -> ip, don't \n",
      "25 ip, don't  -> p, don't d\n",
      "26 p, don't d -> , don't dr\n",
      "27 , don't dr ->  don't dru\n",
      "28  don't dru -> don't drum\n",
      "29 don't drum -> on't drum \n",
      "30 on't drum  -> n't drum u\n",
      "31 n't drum u -> 't drum up\n",
      "32 't drum up -> t drum up \n",
      "33 t drum up  ->  drum up p\n",
      "34  drum up p -> drum up pe\n",
      "35 drum up pe -> rum up peo\n",
      "36 rum up peo -> um up peop\n",
      "37 um up peop -> m up peopl\n",
      "38 m up peopl ->  up people\n",
      "39  up people -> up people \n",
      "40 up people  -> p people t\n",
      "41 p people t ->  people to\n",
      "42  people to -> people tog\n",
      "43 people tog -> eople toge\n",
      "44 eople toge -> ople toget\n",
      "45 ople toget -> ple togeth\n",
      "46 ple togeth -> le togethe\n",
      "47 le togethe -> e together\n",
      "48 e together ->  together \n",
      "49  together  -> together t\n",
      "50 together t -> ogether to\n",
      "51 ogether to -> gether to \n",
      "52 gether to  -> ether to c\n",
      "53 ether to c -> ther to co\n",
      "54 ther to co -> her to col\n",
      "55 her to col -> er to coll\n",
      "56 er to coll -> r to colle\n",
      "57 r to colle ->  to collec\n",
      "58  to collec -> to collect\n",
      "59 to collect -> o collect \n",
      "60 o collect  ->  collect w\n",
      "61  collect w -> collect wo\n",
      "62 collect wo -> ollect woo\n",
      "63 ollect woo -> llect wood\n",
      "64 llect wood -> lect wood \n",
      "65 lect wood  -> ect wood a\n",
      "66 ect wood a -> ct wood an\n",
      "67 ct wood an -> t wood and\n",
      "68 t wood and ->  wood and \n",
      "69  wood and  -> wood and d\n",
      "70 wood and d -> ood and do\n",
      "71 ood and do -> od and don\n",
      "72 od and don -> d and don'\n",
      "73 d and don' ->  and don't\n",
      "74  and don't -> and don't \n",
      "75 and don't  -> nd don't a\n",
      "76 nd don't a -> d don't as\n",
      "77 d don't as ->  don't ass\n",
      "78  don't ass -> don't assi\n",
      "79 don't assi -> on't assig\n",
      "80 on't assig -> n't assign\n",
      "81 n't assign -> 't assign \n",
      "82 't assign  -> t assign t\n",
      "83 t assign t ->  assign th\n",
      "84  assign th -> assign the\n",
      "85 assign the -> ssign them\n",
      "86 ssign them -> sign them \n",
      "87 sign them  -> ign them t\n",
      "88 ign them t -> gn them ta\n",
      "89 gn them ta -> n them tas\n",
      "90 n them tas ->  them task\n",
      "91  them task -> them tasks\n",
      "92 them tasks -> hem tasks \n",
      "93 hem tasks  -> em tasks a\n",
      "94 em tasks a -> m tasks an\n",
      "95 m tasks an ->  tasks and\n",
      "96  tasks and -> tasks and \n",
      "97 tasks and  -> asks and w\n",
      "98 asks and w -> sks and wo\n",
      "99 sks and wo -> ks and wor\n",
      "100 ks and wor -> s and work\n",
      "101 s and work ->  and work,\n",
      "102  and work, -> and work, \n",
      "103 and work,  -> nd work, b\n",
      "104 nd work, b -> d work, bu\n",
      "105 d work, bu ->  work, but\n",
      "106  work, but -> work, but \n",
      "107 work, but  -> ork, but r\n",
      "108 ork, but r -> rk, but ra\n",
      "109 rk, but ra -> k, but rat\n",
      "110 k, but rat -> , but rath\n",
      "111 , but rath ->  but rathe\n",
      "112  but rathe -> but rather\n",
      "113 but rather -> ut rather \n",
      "114 ut rather  -> t rather t\n",
      "115 t rather t ->  rather te\n",
      "116  rather te -> rather tea\n",
      "117 rather tea -> ather teac\n",
      "118 ather teac -> ther teach\n",
      "119 ther teach -> her teach \n",
      "120 her teach  -> er teach t\n",
      "121 er teach t -> r teach th\n",
      "122 r teach th ->  teach the\n",
      "123  teach the -> teach them\n",
      "124 teach them -> each them \n",
      "125 each them  -> ach them t\n",
      "126 ach them t -> ch them to\n",
      "127 ch them to -> h them to \n",
      "128 h them to  ->  them to l\n",
      "129  them to l -> them to lo\n",
      "130 them to lo -> hem to lon\n",
      "131 hem to lon -> em to long\n",
      "132 em to long -> m to long \n",
      "133 m to long  ->  to long f\n",
      "134  to long f -> to long fo\n",
      "135 to long fo -> o long for\n",
      "136 o long for ->  long for \n",
      "137  long for  -> long for t\n",
      "138 long for t -> ong for th\n",
      "139 ong for th -> ng for the\n",
      "140 ng for the -> g for the \n",
      "141 g for the  ->  for the e\n",
      "142  for the e -> for the en\n",
      "143 for the en -> or the end\n",
      "144 or the end -> r the endl\n",
      "145 r the endl ->  the endle\n",
      "146  the endle -> the endles\n",
      "147 the endles -> he endless\n",
      "148 he endless -> e endless \n",
      "149 e endless  ->  endless i\n",
      "150  endless i -> endless im\n",
      "151 endless im -> ndless imm\n",
      "152 ndless imm -> dless imme\n",
      "153 dless imme -> less immen\n",
      "154 less immen -> ess immens\n",
      "155 ess immens -> ss immensi\n",
      "156 ss immensi -> s immensit\n",
      "157 s immensit ->  immensity\n",
      "158  immensity -> immensity \n",
      "159 immensity  -> mmensity o\n",
      "160 mmensity o -> mensity of\n",
      "161 mensity of -> ensity of \n",
      "162 ensity of  -> nsity of t\n",
      "163 nsity of t -> sity of th\n",
      "164 sity of th -> ity of the\n",
      "165 ity of the -> ty of the \n",
      "166 ty of the  -> y of the s\n",
      "167 y of the s ->  of the se\n",
      "168  of the se -> of the sea\n",
      "169 of the sea -> f the sea.\n"
     ]
    }
   ],
   "source": [
    "# 데이터 구성 \n",
    "x_data = []\n",
    "y_data = []\n",
    "\n",
    "for i in range(0, len(sentence) - sequence_length):\n",
    "    x_str = sentence[i:i + sequence_length]\n",
    "    y_str = sentence[i + 1 :i + sequence_length + 1]\n",
    "    print(i, x_str, '->', y_str)\n",
    "    \n",
    "    x_data.append([char_dic[c] for c in x_str])  # x str to index\n",
    "    y_data.append([char_dic[c] for c in y_str])  # y str to index"
   ]
  },
  {
   "cell_type": "code",
   "execution_count": 256,
   "id": "9c49e49b",
   "metadata": {},
   "outputs": [
    {
     "name": "stdout",
     "output_type": "stream",
     "text": [
      "[11, 0, 21, 15, 20, 3, 21, 23, 2, 14]\n",
      "[0, 21, 15, 20, 3, 21, 23, 2, 14, 1]\n"
     ]
    }
   ],
   "source": [
    "print(x_data[0]) # if you wan에 해당됨.\n",
    "print(y_data[0] )# f you want에 해당됨."
   ]
  },
  {
   "cell_type": "code",
   "execution_count": 257,
   "id": "793d8aed",
   "metadata": {},
   "outputs": [],
   "source": [
    "x_one_hot = [np.eye(dic_size)[x] for x in x_data] # x 데이터는 원-핫 인코딩\n",
    "X = torch.FloatTensor(x_one_hot)\n",
    "Y = torch.LongTensor(y_data)"
   ]
  },
  {
   "cell_type": "code",
   "execution_count": 258,
   "id": "9ad91608",
   "metadata": {},
   "outputs": [
    {
     "name": "stdout",
     "output_type": "stream",
     "text": [
      "훈련 데이터의 크기 : torch.Size([170, 10, 25])\n",
      "레이블의 크기 : torch.Size([170, 10])\n"
     ]
    }
   ],
   "source": [
    "print('훈련 데이터의 크기 : {}'.format(X.shape))\n",
    "print('레이블의 크기 : {}'.format(Y.shape))"
   ]
  },
  {
   "cell_type": "markdown",
   "id": "50028bea",
   "metadata": {},
   "source": [
    "- 모델 구현 "
   ]
  },
  {
   "cell_type": "code",
   "execution_count": 259,
   "id": "20a1a4bf",
   "metadata": {},
   "outputs": [],
   "source": [
    "class Net(torch.nn.Module):\n",
    "    def __init__(self, input_dim, hidden_dim, layers): # 현재 hidden_size는 dic_size와 같음.\n",
    "        super(Net, self).__init__()\n",
    "\n",
    "        self.rnn = torch.nn.RNN(input_dim, hidden_dim, num_layers=layers, batch_first=True)\n",
    "        self.fc = torch.nn.Linear(hidden_dim, hidden_dim, bias=True)\n",
    "          \n",
    "    def forward(self, x):\n",
    "        x, _status = self.rnn(x)\n",
    "        x = self.fc(x)\n",
    "        return x"
   ]
  },
  {
   "cell_type": "code",
   "execution_count": 260,
   "id": "15ad1dce",
   "metadata": {},
   "outputs": [],
   "source": [
    "net = Net(dic_size, hidden_size, 2) # 이번에는 층을 두 개 쌓습니다."
   ]
  },
  {
   "cell_type": "code",
   "execution_count": 261,
   "id": "a818c4c4",
   "metadata": {},
   "outputs": [],
   "source": [
    "criterion = torch.nn.CrossEntropyLoss()\n",
    "optimizer = optim.Adam(net.parameters(), learning_rate)"
   ]
  },
  {
   "cell_type": "code",
   "execution_count": 262,
   "id": "f5edc46f",
   "metadata": {},
   "outputs": [
    {
     "name": "stdout",
     "output_type": "stream",
     "text": [
      "torch.Size([170, 10, 25])\n"
     ]
    }
   ],
   "source": [
    "outputs = net(X)\n",
    "print(outputs.shape) # 3차원 텐서"
   ]
  },
  {
   "cell_type": "code",
   "execution_count": 263,
   "id": "8d93a618",
   "metadata": {},
   "outputs": [
    {
     "name": "stdout",
     "output_type": "stream",
     "text": [
      "torch.Size([1700, 25])\n"
     ]
    }
   ],
   "source": [
    "print(outputs.view(-1, dic_size).shape) # 2차원 텐서로 변환."
   ]
  },
  {
   "cell_type": "code",
   "execution_count": 264,
   "id": "ce5de628",
   "metadata": {},
   "outputs": [
    {
     "name": "stdout",
     "output_type": "stream",
     "text": [
      "torch.Size([170, 10])\n",
      "torch.Size([1700])\n"
     ]
    }
   ],
   "source": [
    "print(Y.shape)\n",
    "print(Y.view(-1).shape)"
   ]
  },
  {
   "cell_type": "code",
   "execution_count": 267,
   "id": "3534f5b7",
   "metadata": {},
   "outputs": [
    {
     "name": "stdout",
     "output_type": "stream",
     "text": [
      "t                                                                                                                                                                                  \n",
      "\n",
      "l                                                                                                                                                                                  \n",
      "\n"
     ]
    }
   ],
   "source": [
    "for i in range(100):\n",
    "    optimizer.zero_grad()\n",
    "    outputs = net(X) # (170, 10, 25) 크기를 가진 텐서를 매 에포크마다 모델의 입력으로 사용\n",
    "    loss = criterion(outputs.view(-1, dic_size), Y.view(-1))\n",
    "    loss.backward()\n",
    "    optimizer.step()\n",
    "    \n",
    "    if i % 50 == 0:\n",
    "        # results의 텐서 크기는 (170, 10)\n",
    "        results = outputs.argmax(dim=2)\n",
    "        predict_str = \"\"\n",
    "        for j, result in enumerate(results):\n",
    "            if j == 0: # 처음에는 예측 결과를 전부 가져오지만\n",
    "                predict_str += ''.join([char_set[t] for t in result])\n",
    "            else: # 그 다음에는 마지막 글자만 반복 추가\n",
    "                predict_str += char_set[result[-1]]\n",
    "\n",
    "        print(predict_str)\n",
    "        print()"
   ]
  },
  {
   "cell_type": "markdown",
   "id": "430fa53a",
   "metadata": {},
   "source": [
    "#### 장단기 메모리(Long Short-Term Memory, LSTM)\n",
    "\n",
    "- RNN의 장기 의존성 문제(the problem of Long-Term Dependencies)\n"
   ]
  },
  {
   "attachments": {
    "c6aa9a08-57ca-452f-bcd0-18ada208d8e1.png": {
     "image/png": "[encoded data removed]"
    }
   },
   "cell_type": "markdown",
   "id": "405b6536",
   "metadata": {},
   "source": [
    "![image.png](attachment:c6aa9a08-57ca-452f-bcd0-18ada208d8e1.png)"
   ]
  },
  {
   "attachments": {
    "341b5453-caf8-4457-9a0a-66b4391a4927.png": {
     "image/png": "[encoded data removed]"
    },
    "63085284-8ea3-4683-9696-5d6669a71613.png": {
     "image/png": "[encoded data removed]"
    }
   },
   "cell_type": "markdown",
   "id": "d1342197",
   "metadata": {},
   "source": [
    "1) 입력 게이트 : 현재 정보를 기억하기 위한 게이트  \n",
    "![image.png](attachment:341b5453-caf8-4457-9a0a-66b4391a4927.png)\n",
    "- 이 두 개의 값을 가지고 이번에 선택된 기억할 정보의 양을 정함![download.png](attachment:63085284-8ea3-4683-9696-5d6669a71613.png)"
   ]
  },
  {
   "attachments": {
    "21bc6bc3-7b73-4347-9ea4-dbaadc08a719.png": {
     "image/png": "[encoded data removed]"
    },
    "ac1f074a-b3f0-487a-a773-b03ce1d1269a.png": {
     "image/png": "[encoded data removed]"
    }
   },
   "cell_type": "markdown",
   "id": "c726c200",
   "metadata": {},
   "source": [
    "2) 삭제 게이트 : 기억을 삭제하기 위한 게이트  <-  0에 가까울수록 정보가 많이 삭제된 것이고 1에 가까울수록 정보를 온전히 기억한 것  \n",
    " ![image.png](attachment:ac1f074a-b3f0-487a-a773-b03ce1d1269a.png)\n",
    "- 입력 게이트아 삭제 게이트를 가지고 셀 상태(장기 상태)를 계산  \n",
    "\n",
    "3) 셀 상태(장기 상태)    \n",
    "![image.png](attachment:21bc6bc3-7b73-4347-9ea4-dbaadc08a719.png)\n",
    "\n",
    "- 삭제 게이트의 값이 0에 가까우면(삭제 게이트가 닫히면) 현재 시점의 셀 상태값을 결정하는 영향력이 0이됨\n",
    "- 반대로 입력 게이트의 값이 0에 가까우면 현재 시점의 셀 상태값은 오직 이전 시점의 셀 상태 값에만 의존함 \n",
    "- 결과적으로 삭제 게이트는 이전 시점의 입력을 얼마나 반영할지 의미하고, 입력 게이트는 현재 시점의 입력을 얼마나 반영할지를 결정 "
   ]
  },
  {
   "attachments": {
    "1d2d6802-04ee-4d5f-a373-e0c3b8cdb2ad.png": {
     "image/png": "[encoded data removed]"
    }
   },
   "cell_type": "markdown",
   "id": "271ab18e",
   "metadata": {},
   "source": [
    "4) 출력 게이트와 은닉 상태(단기 상태)  \n",
    "![image.png](attachment:1d2d6802-04ee-4d5f-a373-e0c3b8cdb2ad.png)"
   ]
  },
  {
   "cell_type": "code",
   "execution_count": 269,
   "id": "2b9bfd40",
   "metadata": {},
   "outputs": [],
   "source": [
    "nn.LSTM(input_dim, hidden_size, batch_fisrt=True)  "
   ]
  },
  {
   "cell_type": "markdown",
   "id": "b09f77bf",
   "metadata": {},
   "source": [
    "#### 게이트 순환 유닛(Gated Recurrent Unit, GRU)\n",
    "- LSTM의 장기 의존성 문제에 대한 해결책을 유지하면서, 은닉 상태를 업데이트하는 계산을 줄임\n",
    "- GRU는 성능은 LSTM과 유사하면서 복잡했던 LSTM의 구조를 간단화 "
   ]
  },
  {
   "attachments": {
    "b2ac45bf-f138-4040-bc3f-ef99e35fb86b.png": {
     "image/png": "[encoded data removed]"
    }
   },
   "cell_type": "markdown",
   "id": "d92147d3",
   "metadata": {},
   "source": [
    "![image.png](attachment:b2ac45bf-f138-4040-bc3f-ef99e35fb86b.png)"
   ]
  },
  {
   "cell_type": "markdown",
   "id": "68fb5572",
   "metadata": {},
   "source": [
    "- 데이터 양이 적을 때는 매개 변수의 양이 적은 GRU가 조금 더 낫고, 데이터 양이 더 많으면 LSTM이 더 낫다고 함"
   ]
  },
  {
   "cell_type": "code",
   "execution_count": null,
   "id": "678f26a6",
   "metadata": {},
   "outputs": [],
   "source": [
    "nn.GRU(input_dim, hidden_size, batch_fisrt=True)  "
   ]
  }
 ],
 "metadata": {
  "kernelspec": {
   "display_name": "Python 3 (ipykernel)",
   "language": "python",
   "name": "python3"
  },
  "language_info": {
   "codemirror_mode": {
    "name": "ipython",
    "version": 3
   },
   "file_extension": ".py",
   "mimetype": "text/x-python",
   "name": "python",
   "nbconvert_exporter": "python",
   "pygments_lexer": "ipython3",
   "version": "3.9.2"
  }
 },
 "nbformat": 4,
 "nbformat_minor": 5
}
