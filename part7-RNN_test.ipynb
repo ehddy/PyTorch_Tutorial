{
 "cells": [
  {
   "cell_type": "code",
   "execution_count": 312,
   "id": "107bd361",
   "metadata": {},
   "outputs": [],
   "source": [
    "from sklearn import datasets\n",
    "import torch\n",
    "import torch.nn as nn\n",
    "import torch.nn.functional as F\n",
    "\n",
    "from sklearn.model_selection import train_test_split\n",
    "\n",
    "\n",
    "device = 'cuda' if torch.cuda.is_available() else 'cpu'\n",
    "torch.manual_seed(777)\n",
    "\n",
    "if device == 'cuda':\n",
    "    torch.cuda.manual_seed_all(777)\n",
    "    \n",
    "    \n",
    "iris = datasets.load_iris()"
   ]
  },
  {
   "cell_type": "code",
   "execution_count": 313,
   "id": "86c0b493",
   "metadata": {},
   "outputs": [],
   "source": [
    "\n",
    "X, y = iris.data, iris.target\n",
    "\n",
    "# 데이터 분할\n",
    "X_train, X_test, y_train, y_test = train_test_split(X, y, test_size=0.3, random_state=42)"
   ]
  },
  {
   "cell_type": "code",
   "execution_count": 314,
   "id": "2198d6f0",
   "metadata": {},
   "outputs": [],
   "source": [
    "# PyTorch로 데이터 로딩\n",
    "train_data = TensorDataset(torch.Tensor(X_train), torch.LongTensor(y_train))\n",
    "test_data = TensorDataset(torch.Tensor(X_test), torch.LongTensor(y_test))\n",
    "\n",
    "train_loader = DataLoader(train_data, batch_size=8, shuffle=True)\n",
    "test_loader = DataLoader(test_data, batch_size=8, shuffle=True)"
   ]
  },
  {
   "cell_type": "code",
   "execution_count": 315,
   "id": "234ec76c",
   "metadata": {},
   "outputs": [],
   "source": [
    "class Net(torch.nn.Module):\n",
    "    def __init__(self, input_size, hidden_size, output_size):\n",
    "        super(Net, self).__init__()\n",
    "        self.rnn = torch.nn.RNN(input_size, hidden_size,  num_layers = 2, batch_first=True)\n",
    "        \n",
    "        # 출력층\n",
    "        self.fc = torch.nn.Linear(hidden_size, output_size, bias=True)\n",
    "        \n",
    "\n",
    "    def forward(self, x):\n",
    "        x, _staus = self.rnn(x)\n",
    "        x = self.fc(x)\n",
    "        \n",
    "        return x"
   ]
  },
  {
   "cell_type": "code",
   "execution_count": 316,
   "id": "18eaf704",
   "metadata": {},
   "outputs": [],
   "source": [
    "net = Net(input_size, hidden_size, output_size)"
   ]
  },
  {
   "cell_type": "code",
   "execution_count": 317,
   "id": "62589b7f",
   "metadata": {},
   "outputs": [],
   "source": [
    "criterion = torch.nn.CrossEntropyLoss()\n",
    "optimizer = optim.Adam(net.parameters(), learning_rate)"
   ]
  },
  {
   "cell_type": "code",
   "execution_count": 318,
   "id": "a115c251",
   "metadata": {},
   "outputs": [
    {
     "name": "stdout",
     "output_type": "stream",
     "text": [
      "tensor(1.1175, grad_fn=<NllLossBackward0>)\n",
      "tensor(0.0757, grad_fn=<NllLossBackward0>)\n",
      "tensor(0.2805, grad_fn=<NllLossBackward0>)\n",
      "tensor(0.0232, grad_fn=<NllLossBackward0>)\n",
      "tensor(0.0148, grad_fn=<NllLossBackward0>)\n",
      "tensor(0.0007, grad_fn=<NllLossBackward0>)\n",
      "tensor(0.0021, grad_fn=<NllLossBackward0>)\n",
      "tensor(0.0428, grad_fn=<NllLossBackward0>)\n",
      "tensor(0.7639, grad_fn=<NllLossBackward0>)\n",
      "tensor(0.0323, grad_fn=<NllLossBackward0>)\n"
     ]
    }
   ],
   "source": [
    "for epoch in range(epochs):\n",
    "    for x, y in train_loader:\n",
    "        optimizer.zero_grad()\n",
    "        output = net(x)\n",
    "        loss = criterion(output,y) \n",
    "        loss.backward()\n",
    "        optimizer.step()\n",
    "\n",
    "    if epoch % 10 == 0:\n",
    "        print(loss)"
   ]
  },
  {
   "cell_type": "code",
   "execution_count": 325,
   "id": "c90ac2b3",
   "metadata": {},
   "outputs": [
    {
     "name": "stdout",
     "output_type": "stream",
     "text": [
      "Test Accuracy: 97.778%\n"
     ]
    }
   ],
   "source": [
    "# 모델 평가\n",
    "net.eval()\n",
    "correct = 0\n",
    "total = 0\n",
    "\n",
    "with torch.no_grad():\n",
    "    for x, y in test_loader:\n",
    "        outputs = net(x)\n",
    "        _, predicted = torch.max(outputs.data, 1)\n",
    "        total += y.size(0)\n",
    "        correct += (predicted == y).sum().item()\n",
    "\n",
    "        \n",
    "accuracy = correct / total\n",
    "print(f'Test Accuracy: {accuracy * 100:.3f}%')"
   ]
  },
  {
   "cell_type": "code",
   "execution_count": 326,
   "id": "47538892",
   "metadata": {},
   "outputs": [
    {
     "data": {
      "text/plain": [
       "tensor([6.1000, 2.8000, 4.7000, 1.2000])"
      ]
     },
     "execution_count": 326,
     "metadata": {},
     "output_type": "execute_result"
    }
   ],
   "source": []
  },
  {
   "cell_type": "code",
   "execution_count": 343,
   "id": "6a7fe1be",
   "metadata": {},
   "outputs": [],
   "source": []
  },
  {
   "cell_type": "code",
   "execution_count": 358,
   "id": "73a7d3f0",
   "metadata": {},
   "outputs": [
    {
     "name": "stdout",
     "output_type": "stream",
     "text": [
      "tensor([2]) tensor([2])\n",
      "correct!\n"
     ]
    }
   ],
   "source": [
    "idx = 27\n",
    "\n",
    "x = test_loader.dataset.tensors[0][idx].view(-1, 4)\n",
    "\n",
    "y = test_loader.dataset.tensors[1][idx].view(1)\n",
    "\n",
    "net.eval()\n",
    "outputs = net(x)\n",
    "\n",
    "_, predicted = torch.max(outputs.data, 1)\n",
    "\n",
    "print(predicted, y)\n",
    "\n",
    "if predicted == y:\n",
    "    print(\"correct!\")\n",
    "else:\n",
    "    print('땡~')"
   ]
  },
  {
   "cell_type": "code",
   "execution_count": 346,
   "id": "3e4ec6cd",
   "metadata": {},
   "outputs": [],
   "source": []
  },
  {
   "cell_type": "code",
   "execution_count": 352,
   "id": "a5101a13",
   "metadata": {},
   "outputs": [
    {
     "name": "stdout",
     "output_type": "stream",
     "text": [
      "correct!\n"
     ]
    }
   ],
   "source": []
  },
  {
   "cell_type": "code",
   "execution_count": 351,
   "id": "371b31fe",
   "metadata": {},
   "outputs": [
    {
     "data": {
      "text/plain": [
       "tensor([1])"
      ]
     },
     "execution_count": 351,
     "metadata": {},
     "output_type": "execute_result"
    }
   ],
   "source": []
  },
  {
   "cell_type": "code",
   "execution_count": null,
   "id": "afc135d8",
   "metadata": {},
   "outputs": [],
   "source": []
  }
 ],
 "metadata": {
  "kernelspec": {
   "display_name": "Python 3 (ipykernel)",
   "language": "python",
   "name": "python3"
  },
  "language_info": {
   "codemirror_mode": {
    "name": "ipython",
    "version": 3
   },
   "file_extension": ".py",
   "mimetype": "text/x-python",
   "name": "python",
   "nbconvert_exporter": "python",
   "pygments_lexer": "ipython3",
   "version": "3.9.2"
  }
 },
 "nbformat": 4,
 "nbformat_minor": 5
}
